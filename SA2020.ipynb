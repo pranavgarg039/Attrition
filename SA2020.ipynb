{
 "cells": [
  {
   "cell_type": "code",
   "execution_count": 1,
   "metadata": {},
   "outputs": [],
   "source": [
    "import pandas as pd\n",
    "import numpy as np\n",
    "import matplotlib.pyplot as plt\n",
    "import sklearn\n",
    "from sklearn.model_selection import train_test_split as tts\n",
    "from sklearn.linear_model import LogisticRegression\n",
    "from sklearn.neighbors import KNeighborsClassifier\n",
    "from sklearn.tree import DecisionTreeClassifier\n",
    "from sklearn.svm import SVC\n",
    "from sklearn.metrics import confusion_matrix\n",
    "from sklearn.ensemble import RandomForestClassifier\n",
    "from sklearn.model_selection import GridSearchCV\n",
    "from sklearn.linear_model import SGDClassifier\n",
    "from sklearn.metrics import roc_auc_score as ras\n",
    "\n",
    "%matplotlib inline"
   ]
  },
  {
   "cell_type": "code",
   "execution_count": 2,
   "metadata": {},
   "outputs": [],
   "source": [
    "df = pd.read_csv('covidtrain.csv')"
   ]
  },
  {
   "cell_type": "code",
   "execution_count": 3,
   "metadata": {},
   "outputs": [
    {
     "data": {
      "text/html": [
       "<div>\n",
       "<style scoped>\n",
       "    .dataframe tbody tr th:only-of-type {\n",
       "        vertical-align: middle;\n",
       "    }\n",
       "\n",
       "    .dataframe tbody tr th {\n",
       "        vertical-align: top;\n",
       "    }\n",
       "\n",
       "    .dataframe thead th {\n",
       "        text-align: right;\n",
       "    }\n",
       "</style>\n",
       "<table border=\"1\" class=\"dataframe\">\n",
       "  <thead>\n",
       "    <tr style=\"text-align: right;\">\n",
       "      <th></th>\n",
       "      <th>Id</th>\n",
       "      <th>Age</th>\n",
       "      <th>Attrition</th>\n",
       "      <th>BusinessTravel</th>\n",
       "      <th>Department</th>\n",
       "      <th>DistanceFromHome</th>\n",
       "      <th>Education</th>\n",
       "      <th>EducationField</th>\n",
       "      <th>EmployeeNumber</th>\n",
       "      <th>EnvironmentSatisfaction</th>\n",
       "      <th>...</th>\n",
       "      <th>PerformanceRating</th>\n",
       "      <th>StockOptionLevel</th>\n",
       "      <th>TotalWorkingYears</th>\n",
       "      <th>TrainingTimesLastYear</th>\n",
       "      <th>YearsAtCompany</th>\n",
       "      <th>YearsInCurrentRole</th>\n",
       "      <th>YearsSinceLastPromotion</th>\n",
       "      <th>YearsWithCurrManager</th>\n",
       "      <th>CommunicationSkill</th>\n",
       "      <th>Behaviour</th>\n",
       "    </tr>\n",
       "  </thead>\n",
       "  <tbody>\n",
       "    <tr>\n",
       "      <th>0</th>\n",
       "      <td>1</td>\n",
       "      <td>30</td>\n",
       "      <td>0</td>\n",
       "      <td>Non-Travel</td>\n",
       "      <td>Research &amp; Development</td>\n",
       "      <td>2</td>\n",
       "      <td>3</td>\n",
       "      <td>Medical</td>\n",
       "      <td>571</td>\n",
       "      <td>3</td>\n",
       "      <td>...</td>\n",
       "      <td>3</td>\n",
       "      <td>0</td>\n",
       "      <td>12</td>\n",
       "      <td>2</td>\n",
       "      <td>11</td>\n",
       "      <td>7</td>\n",
       "      <td>6</td>\n",
       "      <td>7</td>\n",
       "      <td>4</td>\n",
       "      <td>1</td>\n",
       "    </tr>\n",
       "    <tr>\n",
       "      <th>1</th>\n",
       "      <td>2</td>\n",
       "      <td>36</td>\n",
       "      <td>0</td>\n",
       "      <td>Travel_Rarely</td>\n",
       "      <td>Research &amp; Development</td>\n",
       "      <td>12</td>\n",
       "      <td>4</td>\n",
       "      <td>Life Sciences</td>\n",
       "      <td>1614</td>\n",
       "      <td>3</td>\n",
       "      <td>...</td>\n",
       "      <td>3</td>\n",
       "      <td>2</td>\n",
       "      <td>7</td>\n",
       "      <td>2</td>\n",
       "      <td>3</td>\n",
       "      <td>2</td>\n",
       "      <td>1</td>\n",
       "      <td>1</td>\n",
       "      <td>2</td>\n",
       "      <td>1</td>\n",
       "    </tr>\n",
       "    <tr>\n",
       "      <th>2</th>\n",
       "      <td>3</td>\n",
       "      <td>55</td>\n",
       "      <td>1</td>\n",
       "      <td>Travel_Rarely</td>\n",
       "      <td>Sales</td>\n",
       "      <td>2</td>\n",
       "      <td>1</td>\n",
       "      <td>Medical</td>\n",
       "      <td>842</td>\n",
       "      <td>3</td>\n",
       "      <td>...</td>\n",
       "      <td>3</td>\n",
       "      <td>0</td>\n",
       "      <td>12</td>\n",
       "      <td>3</td>\n",
       "      <td>9</td>\n",
       "      <td>7</td>\n",
       "      <td>7</td>\n",
       "      <td>3</td>\n",
       "      <td>5</td>\n",
       "      <td>1</td>\n",
       "    </tr>\n",
       "    <tr>\n",
       "      <th>3</th>\n",
       "      <td>4</td>\n",
       "      <td>39</td>\n",
       "      <td>0</td>\n",
       "      <td>Travel_Rarely</td>\n",
       "      <td>Research &amp; Development</td>\n",
       "      <td>24</td>\n",
       "      <td>1</td>\n",
       "      <td>Life Sciences</td>\n",
       "      <td>2014</td>\n",
       "      <td>1</td>\n",
       "      <td>...</td>\n",
       "      <td>3</td>\n",
       "      <td>0</td>\n",
       "      <td>18</td>\n",
       "      <td>2</td>\n",
       "      <td>7</td>\n",
       "      <td>7</td>\n",
       "      <td>1</td>\n",
       "      <td>7</td>\n",
       "      <td>4</td>\n",
       "      <td>1</td>\n",
       "    </tr>\n",
       "    <tr>\n",
       "      <th>4</th>\n",
       "      <td>5</td>\n",
       "      <td>37</td>\n",
       "      <td>0</td>\n",
       "      <td>Travel_Rarely</td>\n",
       "      <td>Research &amp; Development</td>\n",
       "      <td>3</td>\n",
       "      <td>3</td>\n",
       "      <td>Other</td>\n",
       "      <td>689</td>\n",
       "      <td>3</td>\n",
       "      <td>...</td>\n",
       "      <td>3</td>\n",
       "      <td>1</td>\n",
       "      <td>10</td>\n",
       "      <td>2</td>\n",
       "      <td>10</td>\n",
       "      <td>7</td>\n",
       "      <td>7</td>\n",
       "      <td>8</td>\n",
       "      <td>1</td>\n",
       "      <td>1</td>\n",
       "    </tr>\n",
       "  </tbody>\n",
       "</table>\n",
       "<p>5 rows × 29 columns</p>\n",
       "</div>"
      ],
      "text/plain": [
       "   Id  Age  Attrition BusinessTravel              Department  \\\n",
       "0   1   30          0     Non-Travel  Research & Development   \n",
       "1   2   36          0  Travel_Rarely  Research & Development   \n",
       "2   3   55          1  Travel_Rarely                   Sales   \n",
       "3   4   39          0  Travel_Rarely  Research & Development   \n",
       "4   5   37          0  Travel_Rarely  Research & Development   \n",
       "\n",
       "   DistanceFromHome  Education EducationField  EmployeeNumber  \\\n",
       "0                 2          3        Medical             571   \n",
       "1                12          4  Life Sciences            1614   \n",
       "2                 2          1        Medical             842   \n",
       "3                24          1  Life Sciences            2014   \n",
       "4                 3          3          Other             689   \n",
       "\n",
       "   EnvironmentSatisfaction  ... PerformanceRating  StockOptionLevel  \\\n",
       "0                        3  ...                 3                 0   \n",
       "1                        3  ...                 3                 2   \n",
       "2                        3  ...                 3                 0   \n",
       "3                        1  ...                 3                 0   \n",
       "4                        3  ...                 3                 1   \n",
       "\n",
       "  TotalWorkingYears  TrainingTimesLastYear YearsAtCompany  YearsInCurrentRole  \\\n",
       "0                12                      2             11                   7   \n",
       "1                 7                      2              3                   2   \n",
       "2                12                      3              9                   7   \n",
       "3                18                      2              7                   7   \n",
       "4                10                      2             10                   7   \n",
       "\n",
       "   YearsSinceLastPromotion YearsWithCurrManager  CommunicationSkill  Behaviour  \n",
       "0                        6                    7                   4          1  \n",
       "1                        1                    1                   2          1  \n",
       "2                        7                    3                   5          1  \n",
       "3                        1                    7                   4          1  \n",
       "4                        7                    8                   1          1  \n",
       "\n",
       "[5 rows x 29 columns]"
      ]
     },
     "execution_count": 3,
     "metadata": {},
     "output_type": "execute_result"
    }
   ],
   "source": [
    "df.head()"
   ]
  },
  {
   "cell_type": "code",
   "execution_count": 4,
   "metadata": {},
   "outputs": [
    {
     "data": {
      "text/plain": [
       "(1628, 29)"
      ]
     },
     "execution_count": 4,
     "metadata": {},
     "output_type": "execute_result"
    }
   ],
   "source": [
    "df.shape"
   ]
  },
  {
   "cell_type": "code",
   "execution_count": 5,
   "metadata": {},
   "outputs": [
    {
     "data": {
      "text/html": [
       "<div>\n",
       "<style scoped>\n",
       "    .dataframe tbody tr th:only-of-type {\n",
       "        vertical-align: middle;\n",
       "    }\n",
       "\n",
       "    .dataframe tbody tr th {\n",
       "        vertical-align: top;\n",
       "    }\n",
       "\n",
       "    .dataframe thead th {\n",
       "        text-align: right;\n",
       "    }\n",
       "</style>\n",
       "<table border=\"1\" class=\"dataframe\">\n",
       "  <thead>\n",
       "    <tr style=\"text-align: right;\">\n",
       "      <th></th>\n",
       "      <th>Id</th>\n",
       "      <th>Age</th>\n",
       "      <th>Attrition</th>\n",
       "      <th>DistanceFromHome</th>\n",
       "      <th>Education</th>\n",
       "      <th>EmployeeNumber</th>\n",
       "      <th>EnvironmentSatisfaction</th>\n",
       "      <th>JobInvolvement</th>\n",
       "      <th>JobSatisfaction</th>\n",
       "      <th>MonthlyIncome</th>\n",
       "      <th>...</th>\n",
       "      <th>PerformanceRating</th>\n",
       "      <th>StockOptionLevel</th>\n",
       "      <th>TotalWorkingYears</th>\n",
       "      <th>TrainingTimesLastYear</th>\n",
       "      <th>YearsAtCompany</th>\n",
       "      <th>YearsInCurrentRole</th>\n",
       "      <th>YearsSinceLastPromotion</th>\n",
       "      <th>YearsWithCurrManager</th>\n",
       "      <th>CommunicationSkill</th>\n",
       "      <th>Behaviour</th>\n",
       "    </tr>\n",
       "  </thead>\n",
       "  <tbody>\n",
       "    <tr>\n",
       "      <th>count</th>\n",
       "      <td>1628.000000</td>\n",
       "      <td>1628.000000</td>\n",
       "      <td>1628.000000</td>\n",
       "      <td>1628.000000</td>\n",
       "      <td>1628.000000</td>\n",
       "      <td>1628.000000</td>\n",
       "      <td>1628.000000</td>\n",
       "      <td>1628.000000</td>\n",
       "      <td>1628.000000</td>\n",
       "      <td>1628.000000</td>\n",
       "      <td>...</td>\n",
       "      <td>1628.000000</td>\n",
       "      <td>1628.000000</td>\n",
       "      <td>1628.000000</td>\n",
       "      <td>1628.000000</td>\n",
       "      <td>1628.000000</td>\n",
       "      <td>1628.000000</td>\n",
       "      <td>1628.000000</td>\n",
       "      <td>1628.000000</td>\n",
       "      <td>1628.000000</td>\n",
       "      <td>1628.0</td>\n",
       "    </tr>\n",
       "    <tr>\n",
       "      <th>mean</th>\n",
       "      <td>814.500000</td>\n",
       "      <td>35.645577</td>\n",
       "      <td>0.482187</td>\n",
       "      <td>9.735258</td>\n",
       "      <td>2.884521</td>\n",
       "      <td>1000.985872</td>\n",
       "      <td>2.646192</td>\n",
       "      <td>2.650491</td>\n",
       "      <td>2.639435</td>\n",
       "      <td>5785.524570</td>\n",
       "      <td>...</td>\n",
       "      <td>3.155405</td>\n",
       "      <td>0.692260</td>\n",
       "      <td>9.949017</td>\n",
       "      <td>2.752457</td>\n",
       "      <td>6.092752</td>\n",
       "      <td>3.614865</td>\n",
       "      <td>2.049140</td>\n",
       "      <td>3.551597</td>\n",
       "      <td>3.135749</td>\n",
       "      <td>1.0</td>\n",
       "    </tr>\n",
       "    <tr>\n",
       "      <th>std</th>\n",
       "      <td>470.107435</td>\n",
       "      <td>9.481794</td>\n",
       "      <td>0.499836</td>\n",
       "      <td>8.306546</td>\n",
       "      <td>1.020470</td>\n",
       "      <td>585.417694</td>\n",
       "      <td>1.125283</td>\n",
       "      <td>0.736330</td>\n",
       "      <td>1.096272</td>\n",
       "      <td>4339.293147</td>\n",
       "      <td>...</td>\n",
       "      <td>0.362402</td>\n",
       "      <td>0.864808</td>\n",
       "      <td>7.482936</td>\n",
       "      <td>1.288033</td>\n",
       "      <td>5.921168</td>\n",
       "      <td>3.481051</td>\n",
       "      <td>3.138287</td>\n",
       "      <td>3.494369</td>\n",
       "      <td>1.408770</td>\n",
       "      <td>0.0</td>\n",
       "    </tr>\n",
       "    <tr>\n",
       "      <th>min</th>\n",
       "      <td>1.000000</td>\n",
       "      <td>18.000000</td>\n",
       "      <td>0.000000</td>\n",
       "      <td>1.000000</td>\n",
       "      <td>1.000000</td>\n",
       "      <td>1.000000</td>\n",
       "      <td>1.000000</td>\n",
       "      <td>1.000000</td>\n",
       "      <td>1.000000</td>\n",
       "      <td>1009.000000</td>\n",
       "      <td>...</td>\n",
       "      <td>3.000000</td>\n",
       "      <td>0.000000</td>\n",
       "      <td>0.000000</td>\n",
       "      <td>0.000000</td>\n",
       "      <td>0.000000</td>\n",
       "      <td>0.000000</td>\n",
       "      <td>0.000000</td>\n",
       "      <td>0.000000</td>\n",
       "      <td>1.000000</td>\n",
       "      <td>1.0</td>\n",
       "    </tr>\n",
       "    <tr>\n",
       "      <th>25%</th>\n",
       "      <td>407.750000</td>\n",
       "      <td>29.000000</td>\n",
       "      <td>0.000000</td>\n",
       "      <td>2.000000</td>\n",
       "      <td>2.000000</td>\n",
       "      <td>509.250000</td>\n",
       "      <td>2.000000</td>\n",
       "      <td>2.000000</td>\n",
       "      <td>2.000000</td>\n",
       "      <td>2625.000000</td>\n",
       "      <td>...</td>\n",
       "      <td>3.000000</td>\n",
       "      <td>0.000000</td>\n",
       "      <td>5.000000</td>\n",
       "      <td>2.000000</td>\n",
       "      <td>2.000000</td>\n",
       "      <td>1.000000</td>\n",
       "      <td>0.000000</td>\n",
       "      <td>0.000000</td>\n",
       "      <td>2.000000</td>\n",
       "      <td>1.0</td>\n",
       "    </tr>\n",
       "    <tr>\n",
       "      <th>50%</th>\n",
       "      <td>814.500000</td>\n",
       "      <td>34.000000</td>\n",
       "      <td>0.000000</td>\n",
       "      <td>8.000000</td>\n",
       "      <td>3.000000</td>\n",
       "      <td>977.000000</td>\n",
       "      <td>3.000000</td>\n",
       "      <td>3.000000</td>\n",
       "      <td>3.000000</td>\n",
       "      <td>4304.000000</td>\n",
       "      <td>...</td>\n",
       "      <td>3.000000</td>\n",
       "      <td>0.000000</td>\n",
       "      <td>8.000000</td>\n",
       "      <td>3.000000</td>\n",
       "      <td>5.000000</td>\n",
       "      <td>2.000000</td>\n",
       "      <td>1.000000</td>\n",
       "      <td>2.000000</td>\n",
       "      <td>3.000000</td>\n",
       "      <td>1.0</td>\n",
       "    </tr>\n",
       "    <tr>\n",
       "      <th>75%</th>\n",
       "      <td>1221.250000</td>\n",
       "      <td>42.000000</td>\n",
       "      <td>1.000000</td>\n",
       "      <td>15.000000</td>\n",
       "      <td>4.000000</td>\n",
       "      <td>1494.000000</td>\n",
       "      <td>4.000000</td>\n",
       "      <td>3.000000</td>\n",
       "      <td>4.000000</td>\n",
       "      <td>7124.250000</td>\n",
       "      <td>...</td>\n",
       "      <td>3.000000</td>\n",
       "      <td>1.000000</td>\n",
       "      <td>13.000000</td>\n",
       "      <td>3.000000</td>\n",
       "      <td>8.000000</td>\n",
       "      <td>7.000000</td>\n",
       "      <td>2.000000</td>\n",
       "      <td>7.000000</td>\n",
       "      <td>4.000000</td>\n",
       "      <td>1.0</td>\n",
       "    </tr>\n",
       "    <tr>\n",
       "      <th>max</th>\n",
       "      <td>1628.000000</td>\n",
       "      <td>60.000000</td>\n",
       "      <td>1.000000</td>\n",
       "      <td>29.000000</td>\n",
       "      <td>5.000000</td>\n",
       "      <td>2068.000000</td>\n",
       "      <td>4.000000</td>\n",
       "      <td>4.000000</td>\n",
       "      <td>4.000000</td>\n",
       "      <td>19999.000000</td>\n",
       "      <td>...</td>\n",
       "      <td>4.000000</td>\n",
       "      <td>3.000000</td>\n",
       "      <td>38.000000</td>\n",
       "      <td>6.000000</td>\n",
       "      <td>37.000000</td>\n",
       "      <td>18.000000</td>\n",
       "      <td>15.000000</td>\n",
       "      <td>17.000000</td>\n",
       "      <td>5.000000</td>\n",
       "      <td>1.0</td>\n",
       "    </tr>\n",
       "  </tbody>\n",
       "</table>\n",
       "<p>8 rows × 22 columns</p>\n",
       "</div>"
      ],
      "text/plain": [
       "                Id          Age    Attrition  DistanceFromHome    Education  \\\n",
       "count  1628.000000  1628.000000  1628.000000       1628.000000  1628.000000   \n",
       "mean    814.500000    35.645577     0.482187          9.735258     2.884521   \n",
       "std     470.107435     9.481794     0.499836          8.306546     1.020470   \n",
       "min       1.000000    18.000000     0.000000          1.000000     1.000000   \n",
       "25%     407.750000    29.000000     0.000000          2.000000     2.000000   \n",
       "50%     814.500000    34.000000     0.000000          8.000000     3.000000   \n",
       "75%    1221.250000    42.000000     1.000000         15.000000     4.000000   \n",
       "max    1628.000000    60.000000     1.000000         29.000000     5.000000   \n",
       "\n",
       "       EmployeeNumber  EnvironmentSatisfaction  JobInvolvement  \\\n",
       "count     1628.000000              1628.000000     1628.000000   \n",
       "mean      1000.985872                 2.646192        2.650491   \n",
       "std        585.417694                 1.125283        0.736330   \n",
       "min          1.000000                 1.000000        1.000000   \n",
       "25%        509.250000                 2.000000        2.000000   \n",
       "50%        977.000000                 3.000000        3.000000   \n",
       "75%       1494.000000                 4.000000        3.000000   \n",
       "max       2068.000000                 4.000000        4.000000   \n",
       "\n",
       "       JobSatisfaction  MonthlyIncome  ...  PerformanceRating  \\\n",
       "count      1628.000000    1628.000000  ...        1628.000000   \n",
       "mean          2.639435    5785.524570  ...           3.155405   \n",
       "std           1.096272    4339.293147  ...           0.362402   \n",
       "min           1.000000    1009.000000  ...           3.000000   \n",
       "25%           2.000000    2625.000000  ...           3.000000   \n",
       "50%           3.000000    4304.000000  ...           3.000000   \n",
       "75%           4.000000    7124.250000  ...           3.000000   \n",
       "max           4.000000   19999.000000  ...           4.000000   \n",
       "\n",
       "       StockOptionLevel  TotalWorkingYears  TrainingTimesLastYear  \\\n",
       "count       1628.000000        1628.000000            1628.000000   \n",
       "mean           0.692260           9.949017               2.752457   \n",
       "std            0.864808           7.482936               1.288033   \n",
       "min            0.000000           0.000000               0.000000   \n",
       "25%            0.000000           5.000000               2.000000   \n",
       "50%            0.000000           8.000000               3.000000   \n",
       "75%            1.000000          13.000000               3.000000   \n",
       "max            3.000000          38.000000               6.000000   \n",
       "\n",
       "       YearsAtCompany  YearsInCurrentRole  YearsSinceLastPromotion  \\\n",
       "count     1628.000000         1628.000000              1628.000000   \n",
       "mean         6.092752            3.614865                 2.049140   \n",
       "std          5.921168            3.481051                 3.138287   \n",
       "min          0.000000            0.000000                 0.000000   \n",
       "25%          2.000000            1.000000                 0.000000   \n",
       "50%          5.000000            2.000000                 1.000000   \n",
       "75%          8.000000            7.000000                 2.000000   \n",
       "max         37.000000           18.000000                15.000000   \n",
       "\n",
       "       YearsWithCurrManager  CommunicationSkill  Behaviour  \n",
       "count           1628.000000         1628.000000     1628.0  \n",
       "mean               3.551597            3.135749        1.0  \n",
       "std                3.494369            1.408770        0.0  \n",
       "min                0.000000            1.000000        1.0  \n",
       "25%                0.000000            2.000000        1.0  \n",
       "50%                2.000000            3.000000        1.0  \n",
       "75%                7.000000            4.000000        1.0  \n",
       "max               17.000000            5.000000        1.0  \n",
       "\n",
       "[8 rows x 22 columns]"
      ]
     },
     "execution_count": 5,
     "metadata": {},
     "output_type": "execute_result"
    }
   ],
   "source": [
    "df.describe()"
   ]
  },
  {
   "cell_type": "code",
   "execution_count": 6,
   "metadata": {},
   "outputs": [
    {
     "data": {
      "text/plain": [
       "Index(['Id', 'Age', 'Attrition', 'BusinessTravel', 'Department',\n",
       "       'DistanceFromHome', 'Education', 'EducationField', 'EmployeeNumber',\n",
       "       'EnvironmentSatisfaction', 'Gender', 'JobInvolvement', 'JobRole',\n",
       "       'JobSatisfaction', 'MaritalStatus', 'MonthlyIncome',\n",
       "       'NumCompaniesWorked', 'OverTime', 'PercentSalaryHike',\n",
       "       'PerformanceRating', 'StockOptionLevel', 'TotalWorkingYears',\n",
       "       'TrainingTimesLastYear', 'YearsAtCompany', 'YearsInCurrentRole',\n",
       "       'YearsSinceLastPromotion', 'YearsWithCurrManager', 'CommunicationSkill',\n",
       "       'Behaviour'],\n",
       "      dtype='object')"
      ]
     },
     "execution_count": 6,
     "metadata": {},
     "output_type": "execute_result"
    }
   ],
   "source": [
    "df.columns"
   ]
  },
  {
   "cell_type": "code",
   "execution_count": 7,
   "metadata": {},
   "outputs": [
    {
     "data": {
      "text/plain": [
       "array(['Non-Travel', 'Travel_Rarely', 'Travel_Frequently'], dtype=object)"
      ]
     },
     "execution_count": 7,
     "metadata": {},
     "output_type": "execute_result"
    }
   ],
   "source": [
    "df.BusinessTravel.unique()"
   ]
  },
  {
   "cell_type": "code",
   "execution_count": 8,
   "metadata": {},
   "outputs": [
    {
     "data": {
      "text/plain": [
       "Travel_Rarely        1105\n",
       "Travel_Frequently     403\n",
       "Non-Travel            120\n",
       "Name: BusinessTravel, dtype: int64"
      ]
     },
     "execution_count": 8,
     "metadata": {},
     "output_type": "execute_result"
    }
   ],
   "source": [
    "df.BusinessTravel.value_counts()"
   ]
  },
  {
   "cell_type": "code",
   "execution_count": 9,
   "metadata": {},
   "outputs": [
    {
     "data": {
      "text/plain": [
       "0       0\n",
       "1       1\n",
       "2       1\n",
       "3       1\n",
       "4       1\n",
       "       ..\n",
       "1623    2\n",
       "1624    1\n",
       "1625    1\n",
       "1626    1\n",
       "1627    1\n",
       "Name: BusinessTravel, Length: 1628, dtype: int64"
      ]
     },
     "execution_count": 9,
     "metadata": {},
     "output_type": "execute_result"
    }
   ],
   "source": [
    "df.BusinessTravel.replace('Non-Travel', '0', inplace = True)\n",
    "df.BusinessTravel.replace('Travel_Rarely', '1', inplace = True)\n",
    "df.BusinessTravel.replace('Travel_Frequently', '2', inplace = True)\n",
    "df.BusinessTravel.astype('int64')"
   ]
  },
  {
   "cell_type": "code",
   "execution_count": 10,
   "metadata": {},
   "outputs": [
    {
     "data": {
      "text/html": [
       "<div>\n",
       "<style scoped>\n",
       "    .dataframe tbody tr th:only-of-type {\n",
       "        vertical-align: middle;\n",
       "    }\n",
       "\n",
       "    .dataframe tbody tr th {\n",
       "        vertical-align: top;\n",
       "    }\n",
       "\n",
       "    .dataframe thead th {\n",
       "        text-align: right;\n",
       "    }\n",
       "</style>\n",
       "<table border=\"1\" class=\"dataframe\">\n",
       "  <thead>\n",
       "    <tr style=\"text-align: right;\">\n",
       "      <th></th>\n",
       "      <th>Attrition</th>\n",
       "    </tr>\n",
       "    <tr>\n",
       "      <th>BusinessTravel</th>\n",
       "      <th></th>\n",
       "    </tr>\n",
       "  </thead>\n",
       "  <tbody>\n",
       "    <tr>\n",
       "      <th>0</th>\n",
       "      <td>0.291667</td>\n",
       "    </tr>\n",
       "    <tr>\n",
       "      <th>1</th>\n",
       "      <td>0.447964</td>\n",
       "    </tr>\n",
       "    <tr>\n",
       "      <th>2</th>\n",
       "      <td>0.632754</td>\n",
       "    </tr>\n",
       "  </tbody>\n",
       "</table>\n",
       "</div>"
      ],
      "text/plain": [
       "                Attrition\n",
       "BusinessTravel           \n",
       "0                0.291667\n",
       "1                0.447964\n",
       "2                0.632754"
      ]
     },
     "execution_count": 10,
     "metadata": {},
     "output_type": "execute_result"
    }
   ],
   "source": [
    "df[['Attrition', 'BusinessTravel']].groupby('BusinessTravel').mean()"
   ]
  },
  {
   "cell_type": "code",
   "execution_count": 11,
   "metadata": {},
   "outputs": [
    {
     "data": {
      "text/plain": [
       "count    1628.000000\n",
       "mean       35.645577\n",
       "std         9.481794\n",
       "min        18.000000\n",
       "25%        29.000000\n",
       "50%        34.000000\n",
       "75%        42.000000\n",
       "max        60.000000\n",
       "Name: Age, dtype: float64"
      ]
     },
     "execution_count": 11,
     "metadata": {},
     "output_type": "execute_result"
    }
   ],
   "source": [
    "df.Age.describe()"
   ]
  },
  {
   "cell_type": "code",
   "execution_count": 12,
   "metadata": {},
   "outputs": [],
   "source": [
    "age0 = df.loc[df.Attrition == 0, :]\n",
    "a0 = age0.Age\n",
    "age1 = df.loc[df.Attrition == 1, :]\n",
    "a1 = age1.Age\n"
   ]
  },
  {
   "cell_type": "code",
   "execution_count": 13,
   "metadata": {},
   "outputs": [
    {
     "data": {
      "image/png": "[encoded data removed]",
      "text/plain": [
       "<Figure size 432x288 with 2 Axes>"
      ]
     },
     "metadata": {
      "needs_background": "light"
     },
     "output_type": "display_data"
    }
   ],
   "source": [
    "plt.subplot(121)\n",
    "plt.hist(a0, label = 'Zero Attrition', bins = 12)\n",
    "plt.legend()\n",
    "plt.xlabel('Age')\n",
    "plt.ylabel('Retained people')\n",
    "\n",
    "plt.subplot(122)\n",
    "plt.hist(a1, label = 'One Attrition', bins = 12)\n",
    "plt.legend()\n",
    "plt.xlabel('Age')\n",
    "plt.ylabel('Fired people')\n",
    "\n",
    "plt.show()"
   ]
  },
  {
   "cell_type": "code",
   "execution_count": 14,
   "metadata": {},
   "outputs": [],
   "source": [
    "df.Age.replace(np.arange(18,26), 0, inplace = True)\n",
    "df.Age.replace(np.arange(26,40), 1, inplace = True)\n",
    "df.Age.replace(np.arange(40,61), 2, inplace = True)\n",
    "\n"
   ]
  },
  {
   "cell_type": "code",
   "execution_count": 15,
   "metadata": {},
   "outputs": [
    {
     "data": {
      "text/html": [
       "<div>\n",
       "<style scoped>\n",
       "    .dataframe tbody tr th:only-of-type {\n",
       "        vertical-align: middle;\n",
       "    }\n",
       "\n",
       "    .dataframe tbody tr th {\n",
       "        vertical-align: top;\n",
       "    }\n",
       "\n",
       "    .dataframe thead th {\n",
       "        text-align: right;\n",
       "    }\n",
       "</style>\n",
       "<table border=\"1\" class=\"dataframe\">\n",
       "  <thead>\n",
       "    <tr style=\"text-align: right;\">\n",
       "      <th></th>\n",
       "      <th>Attrition</th>\n",
       "    </tr>\n",
       "    <tr>\n",
       "      <th>Age</th>\n",
       "      <th></th>\n",
       "    </tr>\n",
       "  </thead>\n",
       "  <tbody>\n",
       "    <tr>\n",
       "      <th>0</th>\n",
       "      <td>0.720930</td>\n",
       "    </tr>\n",
       "    <tr>\n",
       "      <th>1</th>\n",
       "      <td>0.478065</td>\n",
       "    </tr>\n",
       "    <tr>\n",
       "      <th>2</th>\n",
       "      <td>0.391221</td>\n",
       "    </tr>\n",
       "  </tbody>\n",
       "</table>\n",
       "</div>"
      ],
      "text/plain": [
       "     Attrition\n",
       "Age           \n",
       "0     0.720930\n",
       "1     0.478065\n",
       "2     0.391221"
      ]
     },
     "execution_count": 15,
     "metadata": {},
     "output_type": "execute_result"
    }
   ],
   "source": [
    "df[['Attrition','Age']].groupby('Age').mean()"
   ]
  },
  {
   "cell_type": "code",
   "execution_count": 16,
   "metadata": {},
   "outputs": [
    {
     "data": {
      "text/plain": [
       "Research & Development    979\n",
       "Sales                     568\n",
       "Human Resources            81\n",
       "Name: Department, dtype: int64"
      ]
     },
     "execution_count": 16,
     "metadata": {},
     "output_type": "execute_result"
    }
   ],
   "source": [
    "df.Department.value_counts()"
   ]
  },
  {
   "cell_type": "code",
   "execution_count": 17,
   "metadata": {},
   "outputs": [
    {
     "data": {
      "text/plain": [
       "0       1\n",
       "1       1\n",
       "2       0\n",
       "3       1\n",
       "4       1\n",
       "       ..\n",
       "1623    1\n",
       "1624    0\n",
       "1625    0\n",
       "1626    0\n",
       "1627    1\n",
       "Name: Department, Length: 1628, dtype: int64"
      ]
     },
     "execution_count": 17,
     "metadata": {},
     "output_type": "execute_result"
    }
   ],
   "source": [
    "df.Department.replace(['Sales', 'Human Resources'], '0', inplace = True)\n",
    "df.Department.replace(['Research & Development'], '1', inplace = True)\n",
    "df.Department.astype('int64')\n"
   ]
  },
  {
   "cell_type": "code",
   "execution_count": 18,
   "metadata": {},
   "outputs": [
    {
     "data": {
      "text/html": [
       "<div>\n",
       "<style scoped>\n",
       "    .dataframe tbody tr th:only-of-type {\n",
       "        vertical-align: middle;\n",
       "    }\n",
       "\n",
       "    .dataframe tbody tr th {\n",
       "        vertical-align: top;\n",
       "    }\n",
       "\n",
       "    .dataframe thead th {\n",
       "        text-align: right;\n",
       "    }\n",
       "</style>\n",
       "<table border=\"1\" class=\"dataframe\">\n",
       "  <thead>\n",
       "    <tr style=\"text-align: right;\">\n",
       "      <th></th>\n",
       "      <th>Attrition</th>\n",
       "    </tr>\n",
       "    <tr>\n",
       "      <th>Department</th>\n",
       "      <th></th>\n",
       "    </tr>\n",
       "  </thead>\n",
       "  <tbody>\n",
       "    <tr>\n",
       "      <th>0</th>\n",
       "      <td>0.570108</td>\n",
       "    </tr>\n",
       "    <tr>\n",
       "      <th>1</th>\n",
       "      <td>0.423902</td>\n",
       "    </tr>\n",
       "  </tbody>\n",
       "</table>\n",
       "</div>"
      ],
      "text/plain": [
       "            Attrition\n",
       "Department           \n",
       "0            0.570108\n",
       "1            0.423902"
      ]
     },
     "execution_count": 18,
     "metadata": {},
     "output_type": "execute_result"
    }
   ],
   "source": [
    "df[['Attrition','Department']].groupby('Department').mean()"
   ]
  },
  {
   "cell_type": "code",
   "execution_count": 19,
   "metadata": {},
   "outputs": [
    {
     "data": {
      "text/plain": [
       "count    1628.000000\n",
       "mean        9.735258\n",
       "std         8.306546\n",
       "min         1.000000\n",
       "25%         2.000000\n",
       "50%         8.000000\n",
       "75%        15.000000\n",
       "max        29.000000\n",
       "Name: DistanceFromHome, dtype: float64"
      ]
     },
     "execution_count": 19,
     "metadata": {},
     "output_type": "execute_result"
    }
   ],
   "source": [
    "df.DistanceFromHome.describe()"
   ]
  },
  {
   "cell_type": "code",
   "execution_count": 20,
   "metadata": {},
   "outputs": [],
   "source": [
    "dfh0 = df.loc[df.Attrition == 0, :]\n",
    "dfh0 = dfh0.DistanceFromHome\n",
    "dfh1 = df.loc[df.Attrition == 1, :]\n",
    "dfh1 = dfh1.DistanceFromHome"
   ]
  },
  {
   "cell_type": "code",
   "execution_count": 21,
   "metadata": {},
   "outputs": [
    {
     "data": {
      "image/png": "[encoded data removed]",
      "text/plain": [
       "<Figure size 432x288 with 2 Axes>"
      ]
     },
     "metadata": {
      "needs_background": "light"
     },
     "output_type": "display_data"
    }
   ],
   "source": [
    "plt.subplot(121)\n",
    "plt.hist(dfh0, label = 'Zero Attrition', bins = 8)\n",
    "plt.legend()\n",
    "plt.xlabel('Distance')\n",
    "plt.ylabel('Retained people')\n",
    "\n",
    "plt.subplot(122)\n",
    "plt.hist(dfh1, label = 'One Attrition', bins = 8)\n",
    "plt.legend()\n",
    "plt.xlabel('Distance')\n",
    "plt.ylabel('Fired people')\n",
    "plt.yticks([0,50,100,150,200,250,300])\n",
    "\n",
    "plt.show()"
   ]
  },
  {
   "cell_type": "code",
   "execution_count": 22,
   "metadata": {},
   "outputs": [],
   "source": [
    "df.DistanceFromHome.replace(np.arange(0,10), 0, inplace = True)\n",
    "df.DistanceFromHome.replace(np.arange(10,30), 1, inplace = True)\n"
   ]
  },
  {
   "cell_type": "code",
   "execution_count": 23,
   "metadata": {},
   "outputs": [
    {
     "data": {
      "text/html": [
       "<div>\n",
       "<style scoped>\n",
       "    .dataframe tbody tr th:only-of-type {\n",
       "        vertical-align: middle;\n",
       "    }\n",
       "\n",
       "    .dataframe tbody tr th {\n",
       "        vertical-align: top;\n",
       "    }\n",
       "\n",
       "    .dataframe thead th {\n",
       "        text-align: right;\n",
       "    }\n",
       "</style>\n",
       "<table border=\"1\" class=\"dataframe\">\n",
       "  <thead>\n",
       "    <tr style=\"text-align: right;\">\n",
       "      <th></th>\n",
       "      <th>Attrition</th>\n",
       "    </tr>\n",
       "    <tr>\n",
       "      <th>DistanceFromHome</th>\n",
       "      <th></th>\n",
       "    </tr>\n",
       "  </thead>\n",
       "  <tbody>\n",
       "    <tr>\n",
       "      <th>0</th>\n",
       "      <td>0.442786</td>\n",
       "    </tr>\n",
       "    <tr>\n",
       "      <th>1</th>\n",
       "      <td>0.545746</td>\n",
       "    </tr>\n",
       "  </tbody>\n",
       "</table>\n",
       "</div>"
      ],
      "text/plain": [
       "                  Attrition\n",
       "DistanceFromHome           \n",
       "0                  0.442786\n",
       "1                  0.545746"
      ]
     },
     "execution_count": 23,
     "metadata": {},
     "output_type": "execute_result"
    }
   ],
   "source": [
    "df[['Attrition','DistanceFromHome']].groupby('DistanceFromHome').mean()"
   ]
  },
  {
   "cell_type": "code",
   "execution_count": 24,
   "metadata": {},
   "outputs": [
    {
     "data": {
      "text/plain": [
       "3    644\n",
       "4    434\n",
       "2    306\n",
       "1    201\n",
       "5     43\n",
       "Name: Education, dtype: int64"
      ]
     },
     "execution_count": 24,
     "metadata": {},
     "output_type": "execute_result"
    }
   ],
   "source": [
    "df.Education.value_counts()"
   ]
  },
  {
   "cell_type": "code",
   "execution_count": 25,
   "metadata": {},
   "outputs": [
    {
     "data": {
      "text/html": [
       "<div>\n",
       "<style scoped>\n",
       "    .dataframe tbody tr th:only-of-type {\n",
       "        vertical-align: middle;\n",
       "    }\n",
       "\n",
       "    .dataframe tbody tr th {\n",
       "        vertical-align: top;\n",
       "    }\n",
       "\n",
       "    .dataframe thead th {\n",
       "        text-align: right;\n",
       "    }\n",
       "</style>\n",
       "<table border=\"1\" class=\"dataframe\">\n",
       "  <thead>\n",
       "    <tr style=\"text-align: right;\">\n",
       "      <th></th>\n",
       "      <th>Attrition</th>\n",
       "    </tr>\n",
       "    <tr>\n",
       "      <th>Education</th>\n",
       "      <th></th>\n",
       "    </tr>\n",
       "  </thead>\n",
       "  <tbody>\n",
       "    <tr>\n",
       "      <th>1</th>\n",
       "      <td>0.497512</td>\n",
       "    </tr>\n",
       "    <tr>\n",
       "      <th>2</th>\n",
       "      <td>0.506536</td>\n",
       "    </tr>\n",
       "    <tr>\n",
       "      <th>3</th>\n",
       "      <td>0.489130</td>\n",
       "    </tr>\n",
       "    <tr>\n",
       "      <th>4</th>\n",
       "      <td>0.460829</td>\n",
       "    </tr>\n",
       "    <tr>\n",
       "      <th>5</th>\n",
       "      <td>0.348837</td>\n",
       "    </tr>\n",
       "  </tbody>\n",
       "</table>\n",
       "</div>"
      ],
      "text/plain": [
       "           Attrition\n",
       "Education           \n",
       "1           0.497512\n",
       "2           0.506536\n",
       "3           0.489130\n",
       "4           0.460829\n",
       "5           0.348837"
      ]
     },
     "execution_count": 25,
     "metadata": {},
     "output_type": "execute_result"
    }
   ],
   "source": [
    "df[['Attrition','Education']].groupby('Education').mean()"
   ]
  },
  {
   "cell_type": "code",
   "execution_count": 26,
   "metadata": {},
   "outputs": [],
   "source": [
    "df.Education.replace([1,2,3,4],0, inplace = True)\n",
    "df.Education.replace(5,1, inplace = True)"
   ]
  },
  {
   "cell_type": "code",
   "execution_count": 27,
   "metadata": {},
   "outputs": [
    {
     "data": {
      "text/plain": [
       "Life Sciences       623\n",
       "Medical             521\n",
       "Marketing           197\n",
       "Technical Degree    162\n",
       "Other                85\n",
       "Human Resources      40\n",
       "Name: EducationField, dtype: int64"
      ]
     },
     "execution_count": 27,
     "metadata": {},
     "output_type": "execute_result"
    }
   ],
   "source": [
    "df.EducationField.value_counts()"
   ]
  },
  {
   "cell_type": "code",
   "execution_count": 28,
   "metadata": {},
   "outputs": [
    {
     "data": {
      "text/html": [
       "<div>\n",
       "<style scoped>\n",
       "    .dataframe tbody tr th:only-of-type {\n",
       "        vertical-align: middle;\n",
       "    }\n",
       "\n",
       "    .dataframe tbody tr th {\n",
       "        vertical-align: top;\n",
       "    }\n",
       "\n",
       "    .dataframe thead th {\n",
       "        text-align: right;\n",
       "    }\n",
       "</style>\n",
       "<table border=\"1\" class=\"dataframe\">\n",
       "  <thead>\n",
       "    <tr style=\"text-align: right;\">\n",
       "      <th></th>\n",
       "      <th>Attrition</th>\n",
       "    </tr>\n",
       "    <tr>\n",
       "      <th>EducationField</th>\n",
       "      <th></th>\n",
       "    </tr>\n",
       "  </thead>\n",
       "  <tbody>\n",
       "    <tr>\n",
       "      <th>Human Resources</th>\n",
       "      <td>0.625000</td>\n",
       "    </tr>\n",
       "    <tr>\n",
       "      <th>Life Sciences</th>\n",
       "      <td>0.441413</td>\n",
       "    </tr>\n",
       "    <tr>\n",
       "      <th>Marketing</th>\n",
       "      <td>0.583756</td>\n",
       "    </tr>\n",
       "    <tr>\n",
       "      <th>Medical</th>\n",
       "      <td>0.451056</td>\n",
       "    </tr>\n",
       "    <tr>\n",
       "      <th>Other</th>\n",
       "      <td>0.411765</td>\n",
       "    </tr>\n",
       "    <tr>\n",
       "      <th>Technical Degree</th>\n",
       "      <td>0.617284</td>\n",
       "    </tr>\n",
       "  </tbody>\n",
       "</table>\n",
       "</div>"
      ],
      "text/plain": [
       "                  Attrition\n",
       "EducationField             \n",
       "Human Resources    0.625000\n",
       "Life Sciences      0.441413\n",
       "Marketing          0.583756\n",
       "Medical            0.451056\n",
       "Other              0.411765\n",
       "Technical Degree   0.617284"
      ]
     },
     "execution_count": 28,
     "metadata": {},
     "output_type": "execute_result"
    }
   ],
   "source": [
    "df[['Attrition','EducationField']].groupby('EducationField').mean()"
   ]
  },
  {
   "cell_type": "code",
   "execution_count": 29,
   "metadata": {},
   "outputs": [
    {
     "data": {
      "text/plain": [
       "0       0\n",
       "1       0\n",
       "2       0\n",
       "3       0\n",
       "4       0\n",
       "       ..\n",
       "1623    0\n",
       "1624    0\n",
       "1625    0\n",
       "1626    1\n",
       "1627    0\n",
       "Name: EducationField, Length: 1628, dtype: int64"
      ]
     },
     "execution_count": 29,
     "metadata": {},
     "output_type": "execute_result"
    }
   ],
   "source": [
    "df.EducationField.replace(['Human Resources', 'Marketing', 'Technical Degree'], '1', inplace = True)\n",
    "df.EducationField.replace(['Life Sciences', 'Medical', 'Other'], '0', inplace = True)\n",
    "df.EducationField.astype('int64')"
   ]
  },
  {
   "cell_type": "code",
   "execution_count": 30,
   "metadata": {},
   "outputs": [
    {
     "data": {
      "text/plain": [
       "0    1229\n",
       "1     399\n",
       "Name: EducationField, dtype: int64"
      ]
     },
     "execution_count": 30,
     "metadata": {},
     "output_type": "execute_result"
    }
   ],
   "source": [
    "df.EducationField.value_counts()"
   ]
  },
  {
   "cell_type": "code",
   "execution_count": 31,
   "metadata": {},
   "outputs": [
    {
     "data": {
      "text/html": [
       "<div>\n",
       "<style scoped>\n",
       "    .dataframe tbody tr th:only-of-type {\n",
       "        vertical-align: middle;\n",
       "    }\n",
       "\n",
       "    .dataframe tbody tr th {\n",
       "        vertical-align: top;\n",
       "    }\n",
       "\n",
       "    .dataframe thead th {\n",
       "        text-align: right;\n",
       "    }\n",
       "</style>\n",
       "<table border=\"1\" class=\"dataframe\">\n",
       "  <thead>\n",
       "    <tr style=\"text-align: right;\">\n",
       "      <th></th>\n",
       "      <th>Attrition</th>\n",
       "    </tr>\n",
       "    <tr>\n",
       "      <th>EducationField</th>\n",
       "      <th></th>\n",
       "    </tr>\n",
       "  </thead>\n",
       "  <tbody>\n",
       "    <tr>\n",
       "      <th>0</th>\n",
       "      <td>0.443450</td>\n",
       "    </tr>\n",
       "    <tr>\n",
       "      <th>1</th>\n",
       "      <td>0.601504</td>\n",
       "    </tr>\n",
       "  </tbody>\n",
       "</table>\n",
       "</div>"
      ],
      "text/plain": [
       "                Attrition\n",
       "EducationField           \n",
       "0                0.443450\n",
       "1                0.601504"
      ]
     },
     "execution_count": 31,
     "metadata": {},
     "output_type": "execute_result"
    }
   ],
   "source": [
    "df[['Attrition', 'EducationField']].groupby('EducationField').mean()"
   ]
  },
  {
   "cell_type": "code",
   "execution_count": 32,
   "metadata": {},
   "outputs": [
    {
     "data": {
      "text/plain": [
       "count    1628.000000\n",
       "mean     1000.985872\n",
       "std       585.417694\n",
       "min         1.000000\n",
       "25%       509.250000\n",
       "50%       977.000000\n",
       "75%      1494.000000\n",
       "max      2068.000000\n",
       "Name: EmployeeNumber, dtype: float64"
      ]
     },
     "execution_count": 32,
     "metadata": {},
     "output_type": "execute_result"
    }
   ],
   "source": [
    "df.EmployeeNumber.describe()"
   ]
  },
  {
   "cell_type": "code",
   "execution_count": 33,
   "metadata": {},
   "outputs": [],
   "source": [
    "en0 = df.loc[df.Attrition == 0, :]\n",
    "en0 = en0.EmployeeNumber\n",
    "en1 = df.loc[df.Attrition == 1, :]\n",
    "en1 = en1.EmployeeNumber\n"
   ]
  },
  {
   "cell_type": "code",
   "execution_count": 34,
   "metadata": {},
   "outputs": [
    {
     "data": {
      "image/png": "[encoded data removed]",
      "text/plain": [
       "<Figure size 432x288 with 2 Axes>"
      ]
     },
     "metadata": {
      "needs_background": "light"
     },
     "output_type": "display_data"
    }
   ],
   "source": [
    "plt.subplot(121)\n",
    "plt.hist(en0, label = 'Zero Attrition', bins = 10)\n",
    "plt.legend()\n",
    "plt.xlabel('EMployee Number')\n",
    "plt.ylabel('Retained people')\n",
    "\n",
    "plt.subplot(122)\n",
    "plt.hist(en1, label = 'One Attrition', bins = 10)\n",
    "plt.legend()\n",
    "plt.xlabel('Employee Number')\n",
    "plt.ylabel('Fired people')\n",
    "\n",
    "plt.show()"
   ]
  },
  {
   "cell_type": "code",
   "execution_count": 35,
   "metadata": {},
   "outputs": [],
   "source": [
    "df.EmployeeNumber.replace(np.arange(1,1495),0, inplace = True)\n",
    "df.EmployeeNumber.replace(np.arange(1495,2069),1, inplace = True)"
   ]
  },
  {
   "cell_type": "code",
   "execution_count": 36,
   "metadata": {},
   "outputs": [
    {
     "data": {
      "text/plain": [
       "0    1222\n",
       "1     406\n",
       "Name: EmployeeNumber, dtype: int64"
      ]
     },
     "execution_count": 36,
     "metadata": {},
     "output_type": "execute_result"
    }
   ],
   "source": [
    "df.EmployeeNumber.value_counts()"
   ]
  },
  {
   "cell_type": "code",
   "execution_count": 37,
   "metadata": {},
   "outputs": [
    {
     "data": {
      "text/html": [
       "<div>\n",
       "<style scoped>\n",
       "    .dataframe tbody tr th:only-of-type {\n",
       "        vertical-align: middle;\n",
       "    }\n",
       "\n",
       "    .dataframe tbody tr th {\n",
       "        vertical-align: top;\n",
       "    }\n",
       "\n",
       "    .dataframe thead th {\n",
       "        text-align: right;\n",
       "    }\n",
       "</style>\n",
       "<table border=\"1\" class=\"dataframe\">\n",
       "  <thead>\n",
       "    <tr style=\"text-align: right;\">\n",
       "      <th></th>\n",
       "      <th>Attrition</th>\n",
       "    </tr>\n",
       "    <tr>\n",
       "      <th>EmployeeNumber</th>\n",
       "      <th></th>\n",
       "    </tr>\n",
       "  </thead>\n",
       "  <tbody>\n",
       "    <tr>\n",
       "      <th>0</th>\n",
       "      <td>0.515548</td>\n",
       "    </tr>\n",
       "    <tr>\n",
       "      <th>1</th>\n",
       "      <td>0.381773</td>\n",
       "    </tr>\n",
       "  </tbody>\n",
       "</table>\n",
       "</div>"
      ],
      "text/plain": [
       "                Attrition\n",
       "EmployeeNumber           \n",
       "0                0.515548\n",
       "1                0.381773"
      ]
     },
     "execution_count": 37,
     "metadata": {},
     "output_type": "execute_result"
    }
   ],
   "source": [
    "df[['Attrition', 'EmployeeNumber']].groupby('EmployeeNumber').mean()"
   ]
  },
  {
   "cell_type": "code",
   "execution_count": 38,
   "metadata": {},
   "outputs": [
    {
     "data": {
      "text/plain": [
       "3    480\n",
       "4    472\n",
       "1    372\n",
       "2    304\n",
       "Name: EnvironmentSatisfaction, dtype: int64"
      ]
     },
     "execution_count": 38,
     "metadata": {},
     "output_type": "execute_result"
    }
   ],
   "source": [
    "df.EnvironmentSatisfaction.value_counts()"
   ]
  },
  {
   "cell_type": "code",
   "execution_count": 39,
   "metadata": {},
   "outputs": [
    {
     "data": {
      "text/html": [
       "<div>\n",
       "<style scoped>\n",
       "    .dataframe tbody tr th:only-of-type {\n",
       "        vertical-align: middle;\n",
       "    }\n",
       "\n",
       "    .dataframe tbody tr th {\n",
       "        vertical-align: top;\n",
       "    }\n",
       "\n",
       "    .dataframe thead th {\n",
       "        text-align: right;\n",
       "    }\n",
       "</style>\n",
       "<table border=\"1\" class=\"dataframe\">\n",
       "  <thead>\n",
       "    <tr style=\"text-align: right;\">\n",
       "      <th></th>\n",
       "      <th>Attrition</th>\n",
       "    </tr>\n",
       "    <tr>\n",
       "      <th>EnvironmentSatisfaction</th>\n",
       "      <th></th>\n",
       "    </tr>\n",
       "  </thead>\n",
       "  <tbody>\n",
       "    <tr>\n",
       "      <th>1</th>\n",
       "      <td>0.604839</td>\n",
       "    </tr>\n",
       "    <tr>\n",
       "      <th>2</th>\n",
       "      <td>0.444079</td>\n",
       "    </tr>\n",
       "    <tr>\n",
       "      <th>3</th>\n",
       "      <td>0.458333</td>\n",
       "    </tr>\n",
       "    <tr>\n",
       "      <th>4</th>\n",
       "      <td>0.434322</td>\n",
       "    </tr>\n",
       "  </tbody>\n",
       "</table>\n",
       "</div>"
      ],
      "text/plain": [
       "                         Attrition\n",
       "EnvironmentSatisfaction           \n",
       "1                         0.604839\n",
       "2                         0.444079\n",
       "3                         0.458333\n",
       "4                         0.434322"
      ]
     },
     "execution_count": 39,
     "metadata": {},
     "output_type": "execute_result"
    }
   ],
   "source": [
    "df[['Attrition', 'EnvironmentSatisfaction']].groupby('EnvironmentSatisfaction').mean()"
   ]
  },
  {
   "cell_type": "code",
   "execution_count": 40,
   "metadata": {},
   "outputs": [],
   "source": [
    "df.EnvironmentSatisfaction.replace([2,3,4],0, inplace = True)"
   ]
  },
  {
   "cell_type": "code",
   "execution_count": 41,
   "metadata": {},
   "outputs": [
    {
     "data": {
      "text/plain": [
       "Male      996\n",
       "Female    632\n",
       "Name: Gender, dtype: int64"
      ]
     },
     "execution_count": 41,
     "metadata": {},
     "output_type": "execute_result"
    }
   ],
   "source": [
    "df.Gender.value_counts()"
   ]
  },
  {
   "cell_type": "code",
   "execution_count": 42,
   "metadata": {},
   "outputs": [
    {
     "data": {
      "text/plain": [
       "0       0\n",
       "1       0\n",
       "2       1\n",
       "3       1\n",
       "4       1\n",
       "       ..\n",
       "1623    1\n",
       "1624    1\n",
       "1625    1\n",
       "1626    1\n",
       "1627    1\n",
       "Name: Gender, Length: 1628, dtype: int64"
      ]
     },
     "execution_count": 42,
     "metadata": {},
     "output_type": "execute_result"
    }
   ],
   "source": [
    "df.Gender.replace('Male', '1', inplace = True)\n",
    "df.Gender.replace('Female', '0', inplace = True)\n",
    "df.Gender.astype('int64')"
   ]
  },
  {
   "cell_type": "code",
   "execution_count": 43,
   "metadata": {},
   "outputs": [
    {
     "data": {
      "text/html": [
       "<div>\n",
       "<style scoped>\n",
       "    .dataframe tbody tr th:only-of-type {\n",
       "        vertical-align: middle;\n",
       "    }\n",
       "\n",
       "    .dataframe tbody tr th {\n",
       "        vertical-align: top;\n",
       "    }\n",
       "\n",
       "    .dataframe thead th {\n",
       "        text-align: right;\n",
       "    }\n",
       "</style>\n",
       "<table border=\"1\" class=\"dataframe\">\n",
       "  <thead>\n",
       "    <tr style=\"text-align: right;\">\n",
       "      <th></th>\n",
       "      <th></th>\n",
       "      <th>Attrition</th>\n",
       "    </tr>\n",
       "    <tr>\n",
       "      <th>Gender</th>\n",
       "      <th>Age</th>\n",
       "      <th></th>\n",
       "    </tr>\n",
       "  </thead>\n",
       "  <tbody>\n",
       "    <tr>\n",
       "      <th rowspan=\"3\" valign=\"top\">0</th>\n",
       "      <th>0</th>\n",
       "      <td>0.750000</td>\n",
       "    </tr>\n",
       "    <tr>\n",
       "      <th>1</th>\n",
       "      <td>0.471429</td>\n",
       "    </tr>\n",
       "    <tr>\n",
       "      <th>2</th>\n",
       "      <td>0.346535</td>\n",
       "    </tr>\n",
       "    <tr>\n",
       "      <th rowspan=\"3\" valign=\"top\">1</th>\n",
       "      <th>0</th>\n",
       "      <td>0.703704</td>\n",
       "    </tr>\n",
       "    <tr>\n",
       "      <th>1</th>\n",
       "      <td>0.482375</td>\n",
       "    </tr>\n",
       "    <tr>\n",
       "      <th>2</th>\n",
       "      <td>0.419255</td>\n",
       "    </tr>\n",
       "  </tbody>\n",
       "</table>\n",
       "</div>"
      ],
      "text/plain": [
       "            Attrition\n",
       "Gender Age           \n",
       "0      0     0.750000\n",
       "       1     0.471429\n",
       "       2     0.346535\n",
       "1      0     0.703704\n",
       "       1     0.482375\n",
       "       2     0.419255"
      ]
     },
     "execution_count": 43,
     "metadata": {},
     "output_type": "execute_result"
    }
   ],
   "source": [
    "df[['Attrition','Gender','Age']].groupby(['Gender','Age']).mean()"
   ]
  },
  {
   "cell_type": "code",
   "execution_count": 44,
   "metadata": {},
   "outputs": [
    {
     "data": {
      "text/plain": [
       "3    925\n",
       "2    447\n",
       "4    130\n",
       "1    126\n",
       "Name: JobInvolvement, dtype: int64"
      ]
     },
     "execution_count": 44,
     "metadata": {},
     "output_type": "execute_result"
    }
   ],
   "source": [
    "df.JobInvolvement.value_counts()"
   ]
  },
  {
   "cell_type": "code",
   "execution_count": 45,
   "metadata": {},
   "outputs": [
    {
     "data": {
      "text/html": [
       "<div>\n",
       "<style scoped>\n",
       "    .dataframe tbody tr th:only-of-type {\n",
       "        vertical-align: middle;\n",
       "    }\n",
       "\n",
       "    .dataframe tbody tr th {\n",
       "        vertical-align: top;\n",
       "    }\n",
       "\n",
       "    .dataframe thead th {\n",
       "        text-align: right;\n",
       "    }\n",
       "</style>\n",
       "<table border=\"1\" class=\"dataframe\">\n",
       "  <thead>\n",
       "    <tr style=\"text-align: right;\">\n",
       "      <th></th>\n",
       "      <th>Attrition</th>\n",
       "    </tr>\n",
       "    <tr>\n",
       "      <th>JobInvolvement</th>\n",
       "      <th></th>\n",
       "    </tr>\n",
       "  </thead>\n",
       "  <tbody>\n",
       "    <tr>\n",
       "      <th>1</th>\n",
       "      <td>0.714286</td>\n",
       "    </tr>\n",
       "    <tr>\n",
       "      <th>2</th>\n",
       "      <td>0.525727</td>\n",
       "    </tr>\n",
       "    <tr>\n",
       "      <th>3</th>\n",
       "      <td>0.448649</td>\n",
       "    </tr>\n",
       "    <tr>\n",
       "      <th>4</th>\n",
       "      <td>0.346154</td>\n",
       "    </tr>\n",
       "  </tbody>\n",
       "</table>\n",
       "</div>"
      ],
      "text/plain": [
       "                Attrition\n",
       "JobInvolvement           \n",
       "1                0.714286\n",
       "2                0.525727\n",
       "3                0.448649\n",
       "4                0.346154"
      ]
     },
     "execution_count": 45,
     "metadata": {},
     "output_type": "execute_result"
    }
   ],
   "source": [
    "df[['Attrition','JobInvolvement']].groupby('JobInvolvement').mean()"
   ]
  },
  {
   "cell_type": "code",
   "execution_count": 46,
   "metadata": {},
   "outputs": [
    {
     "data": {
      "text/plain": [
       "Sales Executive              365\n",
       "Research Scientist           341\n",
       "Laboratory Technician        310\n",
       "Sales Representative         172\n",
       "Manufacturing Director       121\n",
       "Healthcare Representative    110\n",
       "Manager                       90\n",
       "Human Resources               72\n",
       "Research Director             47\n",
       "Name: JobRole, dtype: int64"
      ]
     },
     "execution_count": 46,
     "metadata": {},
     "output_type": "execute_result"
    }
   ],
   "source": [
    "df.JobRole.value_counts()"
   ]
  },
  {
   "cell_type": "code",
   "execution_count": 47,
   "metadata": {},
   "outputs": [
    {
     "data": {
      "text/html": [
       "<div>\n",
       "<style scoped>\n",
       "    .dataframe tbody tr th:only-of-type {\n",
       "        vertical-align: middle;\n",
       "    }\n",
       "\n",
       "    .dataframe tbody tr th {\n",
       "        vertical-align: top;\n",
       "    }\n",
       "\n",
       "    .dataframe thead th {\n",
       "        text-align: right;\n",
       "    }\n",
       "</style>\n",
       "<table border=\"1\" class=\"dataframe\">\n",
       "  <thead>\n",
       "    <tr style=\"text-align: right;\">\n",
       "      <th></th>\n",
       "      <th>Attrition</th>\n",
       "    </tr>\n",
       "    <tr>\n",
       "      <th>JobRole</th>\n",
       "      <th></th>\n",
       "    </tr>\n",
       "  </thead>\n",
       "  <tbody>\n",
       "    <tr>\n",
       "      <th>Research Director</th>\n",
       "      <td>0.000000</td>\n",
       "    </tr>\n",
       "    <tr>\n",
       "      <th>Manager</th>\n",
       "      <td>0.222222</td>\n",
       "    </tr>\n",
       "    <tr>\n",
       "      <th>Healthcare Representative</th>\n",
       "      <td>0.227273</td>\n",
       "    </tr>\n",
       "    <tr>\n",
       "      <th>Manufacturing Director</th>\n",
       "      <td>0.247934</td>\n",
       "    </tr>\n",
       "    <tr>\n",
       "      <th>Research Scientist</th>\n",
       "      <td>0.483871</td>\n",
       "    </tr>\n",
       "    <tr>\n",
       "      <th>Sales Executive</th>\n",
       "      <td>0.506849</td>\n",
       "    </tr>\n",
       "    <tr>\n",
       "      <th>Laboratory Technician</th>\n",
       "      <td>0.580645</td>\n",
       "    </tr>\n",
       "    <tr>\n",
       "      <th>Human Resources</th>\n",
       "      <td>0.625000</td>\n",
       "    </tr>\n",
       "    <tr>\n",
       "      <th>Sales Representative</th>\n",
       "      <td>0.784884</td>\n",
       "    </tr>\n",
       "  </tbody>\n",
       "</table>\n",
       "</div>"
      ],
      "text/plain": [
       "                           Attrition\n",
       "JobRole                             \n",
       "Research Director           0.000000\n",
       "Manager                     0.222222\n",
       "Healthcare Representative   0.227273\n",
       "Manufacturing Director      0.247934\n",
       "Research Scientist          0.483871\n",
       "Sales Executive             0.506849\n",
       "Laboratory Technician       0.580645\n",
       "Human Resources             0.625000\n",
       "Sales Representative        0.784884"
      ]
     },
     "execution_count": 47,
     "metadata": {},
     "output_type": "execute_result"
    }
   ],
   "source": [
    "df[['Attrition','JobRole']].groupby('JobRole').mean().sort_values('Attrition')"
   ]
  },
  {
   "cell_type": "code",
   "execution_count": 48,
   "metadata": {},
   "outputs": [
    {
     "data": {
      "text/plain": [
       "0       3\n",
       "1       1\n",
       "2       2\n",
       "3       2\n",
       "4       1\n",
       "       ..\n",
       "1623    2\n",
       "1624    2\n",
       "1625    5\n",
       "1626    4\n",
       "1627    2\n",
       "Name: JobRole, Length: 1628, dtype: int64"
      ]
     },
     "execution_count": 48,
     "metadata": {},
     "output_type": "execute_result"
    }
   ],
   "source": [
    "df.JobRole.replace('Research Director', '0', inplace = True)\n",
    "df.JobRole.replace(['Manager','Healthcare Representative', 'Manufacturing Director'], '1', inplace = True)\n",
    "df.JobRole.replace(['Research Scientist','Sales Executive'], '2', inplace = True)\n",
    "df.JobRole.replace('Laboratory Technician', '3', inplace = True)\n",
    "df.JobRole.replace('Human Resources','4', inplace = True)\n",
    "df.JobRole.replace('Sales Representative', '5', inplace = True)\n",
    "df.JobRole.astype('int64')"
   ]
  },
  {
   "cell_type": "code",
   "execution_count": 49,
   "metadata": {},
   "outputs": [
    {
     "data": {
      "text/plain": [
       "3    529\n",
       "4    434\n",
       "1    356\n",
       "2    309\n",
       "Name: JobSatisfaction, dtype: int64"
      ]
     },
     "execution_count": 49,
     "metadata": {},
     "output_type": "execute_result"
    }
   ],
   "source": [
    "df.JobSatisfaction.value_counts()"
   ]
  },
  {
   "cell_type": "code",
   "execution_count": 50,
   "metadata": {},
   "outputs": [
    {
     "data": {
      "text/html": [
       "<div>\n",
       "<style scoped>\n",
       "    .dataframe tbody tr th:only-of-type {\n",
       "        vertical-align: middle;\n",
       "    }\n",
       "\n",
       "    .dataframe tbody tr th {\n",
       "        vertical-align: top;\n",
       "    }\n",
       "\n",
       "    .dataframe thead th {\n",
       "        text-align: right;\n",
       "    }\n",
       "</style>\n",
       "<table border=\"1\" class=\"dataframe\">\n",
       "  <thead>\n",
       "    <tr style=\"text-align: right;\">\n",
       "      <th></th>\n",
       "      <th>Attrition</th>\n",
       "    </tr>\n",
       "    <tr>\n",
       "      <th>JobSatisfaction</th>\n",
       "      <th></th>\n",
       "    </tr>\n",
       "  </thead>\n",
       "  <tbody>\n",
       "    <tr>\n",
       "      <th>4</th>\n",
       "      <td>0.368664</td>\n",
       "    </tr>\n",
       "    <tr>\n",
       "      <th>3</th>\n",
       "      <td>0.491493</td>\n",
       "    </tr>\n",
       "    <tr>\n",
       "      <th>2</th>\n",
       "      <td>0.501618</td>\n",
       "    </tr>\n",
       "    <tr>\n",
       "      <th>1</th>\n",
       "      <td>0.589888</td>\n",
       "    </tr>\n",
       "  </tbody>\n",
       "</table>\n",
       "</div>"
      ],
      "text/plain": [
       "                 Attrition\n",
       "JobSatisfaction           \n",
       "4                 0.368664\n",
       "3                 0.491493\n",
       "2                 0.501618\n",
       "1                 0.589888"
      ]
     },
     "execution_count": 50,
     "metadata": {},
     "output_type": "execute_result"
    }
   ],
   "source": [
    "df[['Attrition','JobSatisfaction']].groupby('JobSatisfaction').mean().sort_values('Attrition')"
   ]
  },
  {
   "cell_type": "code",
   "execution_count": 51,
   "metadata": {},
   "outputs": [],
   "source": [
    "df.JobSatisfaction.replace(3,2, inplace = True)\n",
    "df.JobSatisfaction.replace(4,3, inplace = True)"
   ]
  },
  {
   "cell_type": "code",
   "execution_count": 52,
   "metadata": {},
   "outputs": [
    {
     "data": {
      "text/plain": [
       "Married     681\n",
       "Single      630\n",
       "Divorced    317\n",
       "Name: MaritalStatus, dtype: int64"
      ]
     },
     "execution_count": 52,
     "metadata": {},
     "output_type": "execute_result"
    }
   ],
   "source": [
    "df.MaritalStatus.value_counts()"
   ]
  },
  {
   "cell_type": "code",
   "execution_count": 53,
   "metadata": {},
   "outputs": [
    {
     "data": {
      "text/html": [
       "<div>\n",
       "<style scoped>\n",
       "    .dataframe tbody tr th:only-of-type {\n",
       "        vertical-align: middle;\n",
       "    }\n",
       "\n",
       "    .dataframe tbody tr th {\n",
       "        vertical-align: top;\n",
       "    }\n",
       "\n",
       "    .dataframe thead th {\n",
       "        text-align: right;\n",
       "    }\n",
       "</style>\n",
       "<table border=\"1\" class=\"dataframe\">\n",
       "  <thead>\n",
       "    <tr style=\"text-align: right;\">\n",
       "      <th></th>\n",
       "      <th>Attrition</th>\n",
       "    </tr>\n",
       "    <tr>\n",
       "      <th>MaritalStatus</th>\n",
       "      <th></th>\n",
       "    </tr>\n",
       "  </thead>\n",
       "  <tbody>\n",
       "    <tr>\n",
       "      <th>Married</th>\n",
       "      <td>0.389134</td>\n",
       "    </tr>\n",
       "    <tr>\n",
       "      <th>Divorced</th>\n",
       "      <td>0.394322</td>\n",
       "    </tr>\n",
       "    <tr>\n",
       "      <th>Single</th>\n",
       "      <td>0.626984</td>\n",
       "    </tr>\n",
       "  </tbody>\n",
       "</table>\n",
       "</div>"
      ],
      "text/plain": [
       "               Attrition\n",
       "MaritalStatus           \n",
       "Married         0.389134\n",
       "Divorced        0.394322\n",
       "Single          0.626984"
      ]
     },
     "execution_count": 53,
     "metadata": {},
     "output_type": "execute_result"
    }
   ],
   "source": [
    "df[['Attrition','MaritalStatus']].groupby('MaritalStatus').mean().sort_values('Attrition')"
   ]
  },
  {
   "cell_type": "code",
   "execution_count": 54,
   "metadata": {},
   "outputs": [
    {
     "data": {
      "text/plain": [
       "0       1\n",
       "1       0\n",
       "2       1\n",
       "3       1\n",
       "4       0\n",
       "       ..\n",
       "1623    0\n",
       "1624    1\n",
       "1625    0\n",
       "1626    0\n",
       "1627    1\n",
       "Name: MaritalStatus, Length: 1628, dtype: int64"
      ]
     },
     "execution_count": 54,
     "metadata": {},
     "output_type": "execute_result"
    }
   ],
   "source": [
    "df.MaritalStatus.replace(['Married', 'Divorced'], '0', inplace = True)\n",
    "df.MaritalStatus.replace('Single', '1', inplace = True)\n",
    "df.MaritalStatus.astype('int64')"
   ]
  },
  {
   "cell_type": "code",
   "execution_count": 55,
   "metadata": {},
   "outputs": [
    {
     "data": {
      "text/plain": [
       "count     1628.000000\n",
       "mean      5785.524570\n",
       "std       4339.293147\n",
       "min       1009.000000\n",
       "25%       2625.000000\n",
       "50%       4304.000000\n",
       "75%       7124.250000\n",
       "max      19999.000000\n",
       "Name: MonthlyIncome, dtype: float64"
      ]
     },
     "execution_count": 55,
     "metadata": {},
     "output_type": "execute_result"
    }
   ],
   "source": [
    "df.MonthlyIncome.describe()"
   ]
  },
  {
   "cell_type": "code",
   "execution_count": 56,
   "metadata": {},
   "outputs": [
    {
     "data": {
      "image/png": "[encoded data removed]",
      "text/plain": [
       "<Figure size 432x288 with 2 Axes>"
      ]
     },
     "metadata": {
      "needs_background": "light"
     },
     "output_type": "display_data"
    }
   ],
   "source": [
    "mi0 = df.loc[df.Attrition == 0, :]\n",
    "mi0 = mi0.MonthlyIncome\n",
    "mi1 = df.loc[df.Attrition == 1, :]\n",
    "mi1 = mi1.MonthlyIncome\n",
    "\n",
    "plt.subplot(121)\n",
    "plt.hist(mi0, label = 'Zero Attrition', bins = 10)\n",
    "plt.legend()\n",
    "plt.xlabel('MonthlyIncome')\n",
    "plt.ylabel('Retained people')\n",
    "plt.yticks([0,50,100,150,200,250,300,350])\n",
    "\n",
    "\n",
    "plt.subplot(122)\n",
    "plt.hist(mi1, label = 'One Attrition', bins = 10)\n",
    "plt.legend()\n",
    "plt.xlabel('MonthlyIncome')\n",
    "plt.ylabel('Fired people')\n",
    "\n",
    "plt.show()"
   ]
  },
  {
   "cell_type": "code",
   "execution_count": 57,
   "metadata": {},
   "outputs": [
    {
     "data": {
      "text/plain": [
       "0       1\n",
       "1       1\n",
       "2       1\n",
       "3       1\n",
       "4       1\n",
       "       ..\n",
       "1623    1\n",
       "1624    1\n",
       "1625    1\n",
       "1626    1\n",
       "1627    1\n",
       "Name: MonthlyIncome, Length: 1628, dtype: int64"
      ]
     },
     "execution_count": 57,
     "metadata": {},
     "output_type": "execute_result"
    }
   ],
   "source": [
    "df.MonthlyIncome.replace(np.arange(0,2001), 0, inplace = True)\n",
    "df.MonthlyIncome.replace(np.arange(2001,25000), 1, inplace = True)\n",
    "df.MonthlyIncome.astype('int64')"
   ]
  },
  {
   "cell_type": "code",
   "execution_count": 58,
   "metadata": {},
   "outputs": [
    {
     "data": {
      "text/html": [
       "<div>\n",
       "<style scoped>\n",
       "    .dataframe tbody tr th:only-of-type {\n",
       "        vertical-align: middle;\n",
       "    }\n",
       "\n",
       "    .dataframe tbody tr th {\n",
       "        vertical-align: top;\n",
       "    }\n",
       "\n",
       "    .dataframe thead th {\n",
       "        text-align: right;\n",
       "    }\n",
       "</style>\n",
       "<table border=\"1\" class=\"dataframe\">\n",
       "  <thead>\n",
       "    <tr style=\"text-align: right;\">\n",
       "      <th></th>\n",
       "      <th>Attrition</th>\n",
       "    </tr>\n",
       "    <tr>\n",
       "      <th>MonthlyIncome</th>\n",
       "      <th></th>\n",
       "    </tr>\n",
       "  </thead>\n",
       "  <tbody>\n",
       "    <tr>\n",
       "      <th>1</th>\n",
       "      <td>0.471038</td>\n",
       "    </tr>\n",
       "    <tr>\n",
       "      <th>0</th>\n",
       "      <td>0.789474</td>\n",
       "    </tr>\n",
       "  </tbody>\n",
       "</table>\n",
       "</div>"
      ],
      "text/plain": [
       "               Attrition\n",
       "MonthlyIncome           \n",
       "1               0.471038\n",
       "0               0.789474"
      ]
     },
     "execution_count": 58,
     "metadata": {},
     "output_type": "execute_result"
    }
   ],
   "source": [
    "df[['Attrition','MonthlyIncome']].groupby('MonthlyIncome').mean().sort_values('Attrition')"
   ]
  },
  {
   "cell_type": "code",
   "execution_count": 59,
   "metadata": {},
   "outputs": [],
   "source": [
    "df.NumCompaniesWorked.replace([1,2,3,4], 0, inplace = True)\n",
    "df.NumCompaniesWorked.replace([5,6,7,8,9], 1, inplace = True)\n",
    "\n"
   ]
  },
  {
   "cell_type": "code",
   "execution_count": 60,
   "metadata": {
    "scrolled": true
   },
   "outputs": [
    {
     "data": {
      "text/html": [
       "<div>\n",
       "<style scoped>\n",
       "    .dataframe tbody tr th:only-of-type {\n",
       "        vertical-align: middle;\n",
       "    }\n",
       "\n",
       "    .dataframe tbody tr th {\n",
       "        vertical-align: top;\n",
       "    }\n",
       "\n",
       "    .dataframe thead th {\n",
       "        text-align: right;\n",
       "    }\n",
       "</style>\n",
       "<table border=\"1\" class=\"dataframe\">\n",
       "  <thead>\n",
       "    <tr style=\"text-align: right;\">\n",
       "      <th></th>\n",
       "      <th>Attrition</th>\n",
       "    </tr>\n",
       "    <tr>\n",
       "      <th>NumCompaniesWorked</th>\n",
       "      <th></th>\n",
       "    </tr>\n",
       "  </thead>\n",
       "  <tbody>\n",
       "    <tr>\n",
       "      <th>0</th>\n",
       "      <td>0.461416</td>\n",
       "    </tr>\n",
       "    <tr>\n",
       "      <th>1</th>\n",
       "      <td>0.552561</td>\n",
       "    </tr>\n",
       "  </tbody>\n",
       "</table>\n",
       "</div>"
      ],
      "text/plain": [
       "                    Attrition\n",
       "NumCompaniesWorked           \n",
       "0                    0.461416\n",
       "1                    0.552561"
      ]
     },
     "execution_count": 60,
     "metadata": {},
     "output_type": "execute_result"
    }
   ],
   "source": [
    "df[['Attrition','NumCompaniesWorked']].groupby('NumCompaniesWorked').mean().sort_values('Attrition')"
   ]
  },
  {
   "cell_type": "code",
   "execution_count": 61,
   "metadata": {},
   "outputs": [
    {
     "data": {
      "text/plain": [
       "No     1000\n",
       "Yes     628\n",
       "Name: OverTime, dtype: int64"
      ]
     },
     "execution_count": 61,
     "metadata": {},
     "output_type": "execute_result"
    }
   ],
   "source": [
    "df.OverTime.value_counts()"
   ]
  },
  {
   "cell_type": "code",
   "execution_count": 62,
   "metadata": {},
   "outputs": [
    {
     "data": {
      "text/html": [
       "<div>\n",
       "<style scoped>\n",
       "    .dataframe tbody tr th:only-of-type {\n",
       "        vertical-align: middle;\n",
       "    }\n",
       "\n",
       "    .dataframe tbody tr th {\n",
       "        vertical-align: top;\n",
       "    }\n",
       "\n",
       "    .dataframe thead th {\n",
       "        text-align: right;\n",
       "    }\n",
       "</style>\n",
       "<table border=\"1\" class=\"dataframe\">\n",
       "  <thead>\n",
       "    <tr style=\"text-align: right;\">\n",
       "      <th></th>\n",
       "      <th>Attrition</th>\n",
       "    </tr>\n",
       "    <tr>\n",
       "      <th>OverTime</th>\n",
       "      <th></th>\n",
       "    </tr>\n",
       "  </thead>\n",
       "  <tbody>\n",
       "    <tr>\n",
       "      <th>No</th>\n",
       "      <td>0.355000</td>\n",
       "    </tr>\n",
       "    <tr>\n",
       "      <th>Yes</th>\n",
       "      <td>0.684713</td>\n",
       "    </tr>\n",
       "  </tbody>\n",
       "</table>\n",
       "</div>"
      ],
      "text/plain": [
       "          Attrition\n",
       "OverTime           \n",
       "No         0.355000\n",
       "Yes        0.684713"
      ]
     },
     "execution_count": 62,
     "metadata": {},
     "output_type": "execute_result"
    }
   ],
   "source": [
    "df[['Attrition','OverTime']].groupby('OverTime').mean().sort_values('Attrition')"
   ]
  },
  {
   "cell_type": "code",
   "execution_count": 63,
   "metadata": {},
   "outputs": [
    {
     "data": {
      "text/plain": [
       "0       0\n",
       "1       1\n",
       "2       0\n",
       "3       0\n",
       "4       0\n",
       "       ..\n",
       "1623    1\n",
       "1624    0\n",
       "1625    0\n",
       "1626    1\n",
       "1627    1\n",
       "Name: OverTime, Length: 1628, dtype: int64"
      ]
     },
     "execution_count": 63,
     "metadata": {},
     "output_type": "execute_result"
    }
   ],
   "source": [
    "df.OverTime.replace(['No','Yes'],['0','1'], inplace = True)\n",
    "df.OverTime.astype('int64')"
   ]
  },
  {
   "cell_type": "code",
   "execution_count": 64,
   "metadata": {},
   "outputs": [
    {
     "data": {
      "text/plain": [
       "array([14, 12, 16, 13, 15, 11, 17, 19, 18, 22, 23, 20, 24, 25, 21],\n",
       "      dtype=int64)"
      ]
     },
     "execution_count": 64,
     "metadata": {},
     "output_type": "execute_result"
    }
   ],
   "source": [
    "df.PercentSalaryHike.unique()"
   ]
  },
  {
   "cell_type": "code",
   "execution_count": 65,
   "metadata": {},
   "outputs": [
    {
     "data": {
      "text/html": [
       "<div>\n",
       "<style scoped>\n",
       "    .dataframe tbody tr th:only-of-type {\n",
       "        vertical-align: middle;\n",
       "    }\n",
       "\n",
       "    .dataframe tbody tr th {\n",
       "        vertical-align: top;\n",
       "    }\n",
       "\n",
       "    .dataframe thead th {\n",
       "        text-align: right;\n",
       "    }\n",
       "</style>\n",
       "<table border=\"1\" class=\"dataframe\">\n",
       "  <thead>\n",
       "    <tr style=\"text-align: right;\">\n",
       "      <th></th>\n",
       "      <th>Attrition</th>\n",
       "    </tr>\n",
       "    <tr>\n",
       "      <th>PercentSalaryHike</th>\n",
       "      <th></th>\n",
       "    </tr>\n",
       "  </thead>\n",
       "  <tbody>\n",
       "    <tr>\n",
       "      <th>25</th>\n",
       "      <td>0.277778</td>\n",
       "    </tr>\n",
       "    <tr>\n",
       "      <th>19</th>\n",
       "      <td>0.367647</td>\n",
       "    </tr>\n",
       "    <tr>\n",
       "      <th>20</th>\n",
       "      <td>0.400000</td>\n",
       "    </tr>\n",
       "    <tr>\n",
       "      <th>14</th>\n",
       "      <td>0.402010</td>\n",
       "    </tr>\n",
       "    <tr>\n",
       "      <th>18</th>\n",
       "      <td>0.430108</td>\n",
       "    </tr>\n",
       "    <tr>\n",
       "      <th>13</th>\n",
       "      <td>0.433790</td>\n",
       "    </tr>\n",
       "    <tr>\n",
       "      <th>21</th>\n",
       "      <td>0.446429</td>\n",
       "    </tr>\n",
       "    <tr>\n",
       "      <th>23</th>\n",
       "      <td>0.468750</td>\n",
       "    </tr>\n",
       "    <tr>\n",
       "      <th>12</th>\n",
       "      <td>0.495495</td>\n",
       "    </tr>\n",
       "    <tr>\n",
       "      <th>15</th>\n",
       "      <td>0.507812</td>\n",
       "    </tr>\n",
       "    <tr>\n",
       "      <th>16</th>\n",
       "      <td>0.533981</td>\n",
       "    </tr>\n",
       "    <tr>\n",
       "      <th>17</th>\n",
       "      <td>0.550000</td>\n",
       "    </tr>\n",
       "    <tr>\n",
       "      <th>11</th>\n",
       "      <td>0.555556</td>\n",
       "    </tr>\n",
       "    <tr>\n",
       "      <th>22</th>\n",
       "      <td>0.588235</td>\n",
       "    </tr>\n",
       "    <tr>\n",
       "      <th>24</th>\n",
       "      <td>0.689655</td>\n",
       "    </tr>\n",
       "  </tbody>\n",
       "</table>\n",
       "</div>"
      ],
      "text/plain": [
       "                   Attrition\n",
       "PercentSalaryHike           \n",
       "25                  0.277778\n",
       "19                  0.367647\n",
       "20                  0.400000\n",
       "14                  0.402010\n",
       "18                  0.430108\n",
       "13                  0.433790\n",
       "21                  0.446429\n",
       "23                  0.468750\n",
       "12                  0.495495\n",
       "15                  0.507812\n",
       "16                  0.533981\n",
       "17                  0.550000\n",
       "11                  0.555556\n",
       "22                  0.588235\n",
       "24                  0.689655"
      ]
     },
     "execution_count": 65,
     "metadata": {},
     "output_type": "execute_result"
    }
   ],
   "source": [
    "df[['Attrition','PercentSalaryHike']].groupby('PercentSalaryHike').mean().sort_values('Attrition')"
   ]
  },
  {
   "cell_type": "code",
   "execution_count": 66,
   "metadata": {},
   "outputs": [
    {
     "data": {
      "text/plain": [
       "3    1375\n",
       "4     253\n",
       "Name: PerformanceRating, dtype: int64"
      ]
     },
     "execution_count": 66,
     "metadata": {},
     "output_type": "execute_result"
    }
   ],
   "source": [
    "df.PerformanceRating.value_counts()"
   ]
  },
  {
   "cell_type": "code",
   "execution_count": 67,
   "metadata": {},
   "outputs": [
    {
     "data": {
      "text/html": [
       "<div>\n",
       "<style scoped>\n",
       "    .dataframe tbody tr th:only-of-type {\n",
       "        vertical-align: middle;\n",
       "    }\n",
       "\n",
       "    .dataframe tbody tr th {\n",
       "        vertical-align: top;\n",
       "    }\n",
       "\n",
       "    .dataframe thead th {\n",
       "        text-align: right;\n",
       "    }\n",
       "</style>\n",
       "<table border=\"1\" class=\"dataframe\">\n",
       "  <thead>\n",
       "    <tr style=\"text-align: right;\">\n",
       "      <th></th>\n",
       "      <th>Attrition</th>\n",
       "    </tr>\n",
       "    <tr>\n",
       "      <th>PerformanceRating</th>\n",
       "      <th></th>\n",
       "    </tr>\n",
       "  </thead>\n",
       "  <tbody>\n",
       "    <tr>\n",
       "      <th>3</th>\n",
       "      <td>0.480000</td>\n",
       "    </tr>\n",
       "    <tr>\n",
       "      <th>4</th>\n",
       "      <td>0.494071</td>\n",
       "    </tr>\n",
       "  </tbody>\n",
       "</table>\n",
       "</div>"
      ],
      "text/plain": [
       "                   Attrition\n",
       "PerformanceRating           \n",
       "3                   0.480000\n",
       "4                   0.494071"
      ]
     },
     "execution_count": 67,
     "metadata": {},
     "output_type": "execute_result"
    }
   ],
   "source": [
    "df[['Attrition','PerformanceRating']].groupby('PerformanceRating').mean().sort_values('Attrition')"
   ]
  },
  {
   "cell_type": "code",
   "execution_count": 68,
   "metadata": {},
   "outputs": [
    {
     "data": {
      "text/plain": [
       "0    836\n",
       "1    557\n",
       "2    135\n",
       "3    100\n",
       "Name: StockOptionLevel, dtype: int64"
      ]
     },
     "execution_count": 68,
     "metadata": {},
     "output_type": "execute_result"
    }
   ],
   "source": [
    "df.StockOptionLevel.value_counts()"
   ]
  },
  {
   "cell_type": "code",
   "execution_count": 69,
   "metadata": {},
   "outputs": [
    {
     "data": {
      "text/html": [
       "<div>\n",
       "<style scoped>\n",
       "    .dataframe tbody tr th:only-of-type {\n",
       "        vertical-align: middle;\n",
       "    }\n",
       "\n",
       "    .dataframe tbody tr th {\n",
       "        vertical-align: top;\n",
       "    }\n",
       "\n",
       "    .dataframe thead th {\n",
       "        text-align: right;\n",
       "    }\n",
       "</style>\n",
       "<table border=\"1\" class=\"dataframe\">\n",
       "  <thead>\n",
       "    <tr style=\"text-align: right;\">\n",
       "      <th></th>\n",
       "      <th>Attrition</th>\n",
       "    </tr>\n",
       "    <tr>\n",
       "      <th>StockOptionLevel</th>\n",
       "      <th></th>\n",
       "    </tr>\n",
       "  </thead>\n",
       "  <tbody>\n",
       "    <tr>\n",
       "      <th>1</th>\n",
       "      <td>0.323160</td>\n",
       "    </tr>\n",
       "    <tr>\n",
       "      <th>2</th>\n",
       "      <td>0.333333</td>\n",
       "    </tr>\n",
       "    <tr>\n",
       "      <th>3</th>\n",
       "      <td>0.500000</td>\n",
       "    </tr>\n",
       "    <tr>\n",
       "      <th>0</th>\n",
       "      <td>0.610048</td>\n",
       "    </tr>\n",
       "  </tbody>\n",
       "</table>\n",
       "</div>"
      ],
      "text/plain": [
       "                  Attrition\n",
       "StockOptionLevel           \n",
       "1                  0.323160\n",
       "2                  0.333333\n",
       "3                  0.500000\n",
       "0                  0.610048"
      ]
     },
     "execution_count": 69,
     "metadata": {},
     "output_type": "execute_result"
    }
   ],
   "source": [
    "df[['Attrition','StockOptionLevel']].groupby('StockOptionLevel').mean().sort_values('Attrition')"
   ]
  },
  {
   "cell_type": "code",
   "execution_count": 70,
   "metadata": {},
   "outputs": [],
   "source": [
    "df.StockOptionLevel.replace(2,1, inplace = True)"
   ]
  },
  {
   "cell_type": "code",
   "execution_count": 71,
   "metadata": {},
   "outputs": [],
   "source": [
    "df.StockOptionLevel.replace(3,2, inplace = True)"
   ]
  },
  {
   "cell_type": "code",
   "execution_count": 72,
   "metadata": {},
   "outputs": [
    {
     "data": {
      "text/plain": [
       "count    1628.000000\n",
       "mean        9.949017\n",
       "std         7.482936\n",
       "min         0.000000\n",
       "25%         5.000000\n",
       "50%         8.000000\n",
       "75%        13.000000\n",
       "max        38.000000\n",
       "Name: TotalWorkingYears, dtype: float64"
      ]
     },
     "execution_count": 72,
     "metadata": {},
     "output_type": "execute_result"
    }
   ],
   "source": [
    "df.TotalWorkingYears.describe()"
   ]
  },
  {
   "cell_type": "code",
   "execution_count": 73,
   "metadata": {},
   "outputs": [
    {
     "data": {
      "image/png": "[encoded data removed]",
      "text/plain": [
       "<Figure size 432x288 with 2 Axes>"
      ]
     },
     "metadata": {
      "needs_background": "light"
     },
     "output_type": "display_data"
    }
   ],
   "source": [
    "twy0 = df.loc[df.Attrition == 0, :]\n",
    "twy0 = twy0.TotalWorkingYears\n",
    "twy1 = df.loc[df.Attrition == 1, :]\n",
    "twy1 = twy1.TotalWorkingYears\n",
    "\n",
    "plt.subplot(121)\n",
    "plt.hist(twy0, label = 'Zero Attrition', bins = 10)\n",
    "plt.legend()\n",
    "plt.yticks([0,50,100,150,200,250,300])\n",
    "\n",
    "plt.xlabel('TotalWorkingYears')\n",
    "plt.ylabel('Retained people')\n",
    "\n",
    "plt.subplot(122)\n",
    "plt.hist(twy1, label = 'One Attrition', bins = 10)\n",
    "plt.legend()\n",
    "plt.yticks([0,50,100,150,200,250,300])\n",
    "plt.xlabel('TotalWorkingYears')\n",
    "plt.ylabel('Fired people')\n",
    "\n",
    "plt.show()"
   ]
  },
  {
   "cell_type": "code",
   "execution_count": 74,
   "metadata": {},
   "outputs": [],
   "source": [
    "df.TotalWorkingYears.replace([0,1,2,3], 0 , inplace = True)\n",
    "df.TotalWorkingYears.replace(np.arange(4,11), 1 , inplace = True)\n",
    "df.TotalWorkingYears.replace(np.arange(11,18), 2 , inplace = True)\n",
    "df.TotalWorkingYears.replace(np.arange(18,40), 3 , inplace = True)"
   ]
  },
  {
   "cell_type": "code",
   "execution_count": 75,
   "metadata": {},
   "outputs": [
    {
     "data": {
      "text/html": [
       "<div>\n",
       "<style scoped>\n",
       "    .dataframe tbody tr th:only-of-type {\n",
       "        vertical-align: middle;\n",
       "    }\n",
       "\n",
       "    .dataframe tbody tr th {\n",
       "        vertical-align: top;\n",
       "    }\n",
       "\n",
       "    .dataframe thead th {\n",
       "        text-align: right;\n",
       "    }\n",
       "</style>\n",
       "<table border=\"1\" class=\"dataframe\">\n",
       "  <thead>\n",
       "    <tr style=\"text-align: right;\">\n",
       "      <th></th>\n",
       "      <th>Attrition</th>\n",
       "    </tr>\n",
       "    <tr>\n",
       "      <th>TotalWorkingYears</th>\n",
       "      <th></th>\n",
       "    </tr>\n",
       "  </thead>\n",
       "  <tbody>\n",
       "    <tr>\n",
       "      <th>3</th>\n",
       "      <td>0.319549</td>\n",
       "    </tr>\n",
       "    <tr>\n",
       "      <th>2</th>\n",
       "      <td>0.386179</td>\n",
       "    </tr>\n",
       "    <tr>\n",
       "      <th>1</th>\n",
       "      <td>0.462850</td>\n",
       "    </tr>\n",
       "    <tr>\n",
       "      <th>0</th>\n",
       "      <td>0.762712</td>\n",
       "    </tr>\n",
       "  </tbody>\n",
       "</table>\n",
       "</div>"
      ],
      "text/plain": [
       "                   Attrition\n",
       "TotalWorkingYears           \n",
       "3                   0.319549\n",
       "2                   0.386179\n",
       "1                   0.462850\n",
       "0                   0.762712"
      ]
     },
     "execution_count": 75,
     "metadata": {},
     "output_type": "execute_result"
    }
   ],
   "source": [
    "df[['Attrition','TotalWorkingYears']].groupby('TotalWorkingYears').mean().sort_values('Attrition')"
   ]
  },
  {
   "cell_type": "code",
   "execution_count": 76,
   "metadata": {},
   "outputs": [
    {
     "data": {
      "text/plain": [
       "2    610\n",
       "3    534\n",
       "4    139\n",
       "5    133\n",
       "1     78\n",
       "0     74\n",
       "6     60\n",
       "Name: TrainingTimesLastYear, dtype: int64"
      ]
     },
     "execution_count": 76,
     "metadata": {},
     "output_type": "execute_result"
    }
   ],
   "source": [
    "df.TrainingTimesLastYear.value_counts()"
   ]
  },
  {
   "cell_type": "code",
   "execution_count": 77,
   "metadata": {},
   "outputs": [
    {
     "data": {
      "text/html": [
       "<div>\n",
       "<style scoped>\n",
       "    .dataframe tbody tr th:only-of-type {\n",
       "        vertical-align: middle;\n",
       "    }\n",
       "\n",
       "    .dataframe tbody tr th {\n",
       "        vertical-align: top;\n",
       "    }\n",
       "\n",
       "    .dataframe thead th {\n",
       "        text-align: right;\n",
       "    }\n",
       "</style>\n",
       "<table border=\"1\" class=\"dataframe\">\n",
       "  <thead>\n",
       "    <tr style=\"text-align: right;\">\n",
       "      <th></th>\n",
       "      <th>Attrition</th>\n",
       "    </tr>\n",
       "    <tr>\n",
       "      <th>TrainingTimesLastYear</th>\n",
       "      <th></th>\n",
       "    </tr>\n",
       "  </thead>\n",
       "  <tbody>\n",
       "    <tr>\n",
       "      <th>6</th>\n",
       "      <td>0.250000</td>\n",
       "    </tr>\n",
       "    <tr>\n",
       "      <th>5</th>\n",
       "      <td>0.413534</td>\n",
       "    </tr>\n",
       "    <tr>\n",
       "      <th>3</th>\n",
       "      <td>0.440075</td>\n",
       "    </tr>\n",
       "    <tr>\n",
       "      <th>2</th>\n",
       "      <td>0.508197</td>\n",
       "    </tr>\n",
       "    <tr>\n",
       "      <th>1</th>\n",
       "      <td>0.512821</td>\n",
       "    </tr>\n",
       "    <tr>\n",
       "      <th>4</th>\n",
       "      <td>0.575540</td>\n",
       "    </tr>\n",
       "    <tr>\n",
       "      <th>0</th>\n",
       "      <td>0.675676</td>\n",
       "    </tr>\n",
       "  </tbody>\n",
       "</table>\n",
       "</div>"
      ],
      "text/plain": [
       "                       Attrition\n",
       "TrainingTimesLastYear           \n",
       "6                       0.250000\n",
       "5                       0.413534\n",
       "3                       0.440075\n",
       "2                       0.508197\n",
       "1                       0.512821\n",
       "4                       0.575540\n",
       "0                       0.675676"
      ]
     },
     "execution_count": 77,
     "metadata": {},
     "output_type": "execute_result"
    }
   ],
   "source": [
    "df[['Attrition','TrainingTimesLastYear']].groupby('TrainingTimesLastYear').mean().sort_values('Attrition')"
   ]
  },
  {
   "cell_type": "code",
   "execution_count": 78,
   "metadata": {},
   "outputs": [
    {
     "data": {
      "text/plain": [
       "1     283\n",
       "5     183\n",
       "2     176\n",
       "3     139\n",
       "4     119\n",
       "10    117\n",
       "7      88\n",
       "8      82\n",
       "9      79\n",
       "6      79\n",
       "0      73\n",
       "13     24\n",
       "11     21\n",
       "20     21\n",
       "15     18\n",
       "14     18\n",
       "21     14\n",
       "17     13\n",
       "18      9\n",
       "19      9\n",
       "22      9\n",
       "33      9\n",
       "24      8\n",
       "16      8\n",
       "12      7\n",
       "23      6\n",
       "26      4\n",
       "31      2\n",
       "36      2\n",
       "27      2\n",
       "29      1\n",
       "30      1\n",
       "32      1\n",
       "25      1\n",
       "34      1\n",
       "37      1\n",
       "Name: YearsAtCompany, dtype: int64"
      ]
     },
     "execution_count": 78,
     "metadata": {},
     "output_type": "execute_result"
    }
   ],
   "source": [
    "df.YearsAtCompany.value_counts()"
   ]
  },
  {
   "cell_type": "code",
   "execution_count": 79,
   "metadata": {},
   "outputs": [],
   "source": [
    "df.YearsAtCompany.replace(np.arange(20,41), '20+' , inplace = True)"
   ]
  },
  {
   "cell_type": "code",
   "execution_count": 80,
   "metadata": {},
   "outputs": [],
   "source": [
    "df.YearsAtCompany.replace(np.arange(0,5),'0-5', inplace = True)"
   ]
  },
  {
   "cell_type": "code",
   "execution_count": 81,
   "metadata": {},
   "outputs": [],
   "source": [
    "df.YearsAtCompany.replace(np.arange(5,10),'5-10', inplace = True)\n",
    "df.YearsAtCompany.replace(np.arange(10,20),'10-20', inplace = True)"
   ]
  },
  {
   "cell_type": "code",
   "execution_count": 82,
   "metadata": {},
   "outputs": [
    {
     "data": {
      "text/plain": [
       "0-5      790\n",
       "5-10     511\n",
       "10-20    244\n",
       "20+       83\n",
       "Name: YearsAtCompany, dtype: int64"
      ]
     },
     "execution_count": 82,
     "metadata": {},
     "output_type": "execute_result"
    }
   ],
   "source": [
    "df.YearsAtCompany.value_counts()"
   ]
  },
  {
   "cell_type": "code",
   "execution_count": 83,
   "metadata": {},
   "outputs": [
    {
     "data": {
      "text/html": [
       "<div>\n",
       "<style scoped>\n",
       "    .dataframe tbody tr th:only-of-type {\n",
       "        vertical-align: middle;\n",
       "    }\n",
       "\n",
       "    .dataframe tbody tr th {\n",
       "        vertical-align: top;\n",
       "    }\n",
       "\n",
       "    .dataframe thead th {\n",
       "        text-align: right;\n",
       "    }\n",
       "</style>\n",
       "<table border=\"1\" class=\"dataframe\">\n",
       "  <thead>\n",
       "    <tr style=\"text-align: right;\">\n",
       "      <th></th>\n",
       "      <th>Attrition</th>\n",
       "    </tr>\n",
       "    <tr>\n",
       "      <th>YearsAtCompany</th>\n",
       "      <th></th>\n",
       "    </tr>\n",
       "  </thead>\n",
       "  <tbody>\n",
       "    <tr>\n",
       "      <th>20+</th>\n",
       "      <td>0.240964</td>\n",
       "    </tr>\n",
       "    <tr>\n",
       "      <th>10-20</th>\n",
       "      <td>0.348361</td>\n",
       "    </tr>\n",
       "    <tr>\n",
       "      <th>5-10</th>\n",
       "      <td>0.381605</td>\n",
       "    </tr>\n",
       "    <tr>\n",
       "      <th>0-5</th>\n",
       "      <td>0.613924</td>\n",
       "    </tr>\n",
       "  </tbody>\n",
       "</table>\n",
       "</div>"
      ],
      "text/plain": [
       "                Attrition\n",
       "YearsAtCompany           \n",
       "20+              0.240964\n",
       "10-20            0.348361\n",
       "5-10             0.381605\n",
       "0-5              0.613924"
      ]
     },
     "execution_count": 83,
     "metadata": {},
     "output_type": "execute_result"
    }
   ],
   "source": [
    "df[['Attrition','YearsAtCompany']].groupby('YearsAtCompany').mean().sort_values('Attrition')"
   ]
  },
  {
   "cell_type": "code",
   "execution_count": 84,
   "metadata": {},
   "outputs": [
    {
     "data": {
      "text/plain": [
       "0       2\n",
       "1       0\n",
       "2       1\n",
       "3       1\n",
       "4       2\n",
       "       ..\n",
       "1623    0\n",
       "1624    1\n",
       "1625    0\n",
       "1626    0\n",
       "1627    0\n",
       "Name: YearsAtCompany, Length: 1628, dtype: int64"
      ]
     },
     "execution_count": 84,
     "metadata": {},
     "output_type": "execute_result"
    }
   ],
   "source": [
    "df.YearsAtCompany.replace('0-5', '0', inplace = True)\n",
    "df.YearsAtCompany.replace('5-10','1', inplace = True)\n",
    "df.YearsAtCompany.replace('10-20','2', inplace = True)\n",
    "df.YearsAtCompany.replace('20+','3', inplace = True)\n",
    "df.YearsAtCompany.astype('int64')\n"
   ]
  },
  {
   "cell_type": "code",
   "execution_count": 85,
   "metadata": {},
   "outputs": [
    {
     "data": {
      "text/plain": [
       "2     437\n",
       "0     361\n",
       "7     219\n",
       "3     143\n",
       "4     109\n",
       "1      84\n",
       "8      76\n",
       "9      57\n",
       "10     26\n",
       "6      25\n",
       "5      25\n",
       "13     17\n",
       "11     16\n",
       "12      9\n",
       "14      9\n",
       "15      5\n",
       "16      5\n",
       "17      3\n",
       "18      2\n",
       "Name: YearsInCurrentRole, dtype: int64"
      ]
     },
     "execution_count": 85,
     "metadata": {},
     "output_type": "execute_result"
    }
   ],
   "source": [
    "df.YearsInCurrentRole.value_counts()"
   ]
  },
  {
   "cell_type": "code",
   "execution_count": 86,
   "metadata": {},
   "outputs": [
    {
     "data": {
      "image/png": "[encoded data removed]",
      "text/plain": [
       "<Figure size 432x288 with 2 Axes>"
      ]
     },
     "metadata": {
      "needs_background": "light"
     },
     "output_type": "display_data"
    }
   ],
   "source": [
    "ycr0 = df.loc[df.Attrition == 0, :]\n",
    "ycr0 = ycr0.YearsInCurrentRole\n",
    "ycr1 = df.loc[df.Attrition == 1, :]\n",
    "ycr1 = ycr1.YearsInCurrentRole\n",
    "\n",
    "plt.subplot(121)\n",
    "plt.hist(ycr0, label = 'Zero Attrition', bins = 6)\n",
    "plt.legend()\n",
    "plt.xlabel('YearsInCurrentRole')\n",
    "plt.ylabel('Retained people')\n",
    "plt.yticks([0,100,200,300,400,500])\n",
    "\n",
    "plt.subplot(122)\n",
    "plt.hist(ycr1, label = 'One Attrition', bins = 6)\n",
    "plt.legend()\n",
    "plt.xlabel('YearsInCurrentRole')\n",
    "plt.ylabel('Fired people')\n",
    "\n",
    "plt.show()"
   ]
  },
  {
   "cell_type": "code",
   "execution_count": 87,
   "metadata": {},
   "outputs": [],
   "source": [
    "df.YearsInCurrentRole.replace([0,1,2],0, inplace = True)\n",
    "df.YearsInCurrentRole.replace([3,4,5],1, inplace = True)\n",
    "df.YearsInCurrentRole.replace([6,7,8,9],2, inplace = True)\n",
    "df.YearsInCurrentRole.replace(np.arange(10,19),3, inplace = True)"
   ]
  },
  {
   "cell_type": "code",
   "execution_count": 88,
   "metadata": {},
   "outputs": [
    {
     "data": {
      "text/html": [
       "<div>\n",
       "<style scoped>\n",
       "    .dataframe tbody tr th:only-of-type {\n",
       "        vertical-align: middle;\n",
       "    }\n",
       "\n",
       "    .dataframe tbody tr th {\n",
       "        vertical-align: top;\n",
       "    }\n",
       "\n",
       "    .dataframe thead th {\n",
       "        text-align: right;\n",
       "    }\n",
       "</style>\n",
       "<table border=\"1\" class=\"dataframe\">\n",
       "  <thead>\n",
       "    <tr style=\"text-align: right;\">\n",
       "      <th></th>\n",
       "      <th>Attrition</th>\n",
       "    </tr>\n",
       "    <tr>\n",
       "      <th>YearsInCurrentRole</th>\n",
       "      <th></th>\n",
       "    </tr>\n",
       "  </thead>\n",
       "  <tbody>\n",
       "    <tr>\n",
       "      <th>3</th>\n",
       "      <td>0.163043</td>\n",
       "    </tr>\n",
       "    <tr>\n",
       "      <th>2</th>\n",
       "      <td>0.358090</td>\n",
       "    </tr>\n",
       "    <tr>\n",
       "      <th>1</th>\n",
       "      <td>0.397112</td>\n",
       "    </tr>\n",
       "    <tr>\n",
       "      <th>0</th>\n",
       "      <td>0.595238</td>\n",
       "    </tr>\n",
       "  </tbody>\n",
       "</table>\n",
       "</div>"
      ],
      "text/plain": [
       "                    Attrition\n",
       "YearsInCurrentRole           \n",
       "3                    0.163043\n",
       "2                    0.358090\n",
       "1                    0.397112\n",
       "0                    0.595238"
      ]
     },
     "execution_count": 88,
     "metadata": {},
     "output_type": "execute_result"
    }
   ],
   "source": [
    "df[['Attrition','YearsInCurrentRole']].groupby('YearsInCurrentRole').mean().sort_values('Attrition')"
   ]
  },
  {
   "cell_type": "code",
   "execution_count": 89,
   "metadata": {},
   "outputs": [
    {
     "data": {
      "text/plain": [
       "0     414\n",
       "2     368\n",
       "7     221\n",
       "3     148\n",
       "8      98\n",
       "4      95\n",
       "1      94\n",
       "9      47\n",
       "5      29\n",
       "10     27\n",
       "6      25\n",
       "11     15\n",
       "12     13\n",
       "14     13\n",
       "13     10\n",
       "15      5\n",
       "17      5\n",
       "16      1\n",
       "Name: YearsWithCurrManager, dtype: int64"
      ]
     },
     "execution_count": 89,
     "metadata": {},
     "output_type": "execute_result"
    }
   ],
   "source": [
    "df.YearsWithCurrManager.value_counts()"
   ]
  },
  {
   "cell_type": "code",
   "execution_count": 90,
   "metadata": {},
   "outputs": [
    {
     "data": {
      "text/html": [
       "<div>\n",
       "<style scoped>\n",
       "    .dataframe tbody tr th:only-of-type {\n",
       "        vertical-align: middle;\n",
       "    }\n",
       "\n",
       "    .dataframe tbody tr th {\n",
       "        vertical-align: top;\n",
       "    }\n",
       "\n",
       "    .dataframe thead th {\n",
       "        text-align: right;\n",
       "    }\n",
       "</style>\n",
       "<table border=\"1\" class=\"dataframe\">\n",
       "  <thead>\n",
       "    <tr style=\"text-align: right;\">\n",
       "      <th></th>\n",
       "      <th>Attrition</th>\n",
       "    </tr>\n",
       "    <tr>\n",
       "      <th>YearsWithCurrManager</th>\n",
       "      <th></th>\n",
       "    </tr>\n",
       "  </thead>\n",
       "  <tbody>\n",
       "    <tr>\n",
       "      <th>17</th>\n",
       "      <td>0.000000</td>\n",
       "    </tr>\n",
       "    <tr>\n",
       "      <th>15</th>\n",
       "      <td>0.000000</td>\n",
       "    </tr>\n",
       "    <tr>\n",
       "      <th>13</th>\n",
       "      <td>0.000000</td>\n",
       "    </tr>\n",
       "    <tr>\n",
       "      <th>12</th>\n",
       "      <td>0.000000</td>\n",
       "    </tr>\n",
       "    <tr>\n",
       "      <th>16</th>\n",
       "      <td>0.000000</td>\n",
       "    </tr>\n",
       "    <tr>\n",
       "      <th>9</th>\n",
       "      <td>0.212766</td>\n",
       "    </tr>\n",
       "    <tr>\n",
       "      <th>11</th>\n",
       "      <td>0.333333</td>\n",
       "    </tr>\n",
       "    <tr>\n",
       "      <th>5</th>\n",
       "      <td>0.344828</td>\n",
       "    </tr>\n",
       "    <tr>\n",
       "      <th>8</th>\n",
       "      <td>0.357143</td>\n",
       "    </tr>\n",
       "    <tr>\n",
       "      <th>4</th>\n",
       "      <td>0.368421</td>\n",
       "    </tr>\n",
       "    <tr>\n",
       "      <th>10</th>\n",
       "      <td>0.370370</td>\n",
       "    </tr>\n",
       "    <tr>\n",
       "      <th>6</th>\n",
       "      <td>0.400000</td>\n",
       "    </tr>\n",
       "    <tr>\n",
       "      <th>1</th>\n",
       "      <td>0.425532</td>\n",
       "    </tr>\n",
       "    <tr>\n",
       "      <th>7</th>\n",
       "      <td>0.429864</td>\n",
       "    </tr>\n",
       "    <tr>\n",
       "      <th>3</th>\n",
       "      <td>0.439189</td>\n",
       "    </tr>\n",
       "    <tr>\n",
       "      <th>2</th>\n",
       "      <td>0.461957</td>\n",
       "    </tr>\n",
       "    <tr>\n",
       "      <th>0</th>\n",
       "      <td>0.700483</td>\n",
       "    </tr>\n",
       "    <tr>\n",
       "      <th>14</th>\n",
       "      <td>0.769231</td>\n",
       "    </tr>\n",
       "  </tbody>\n",
       "</table>\n",
       "</div>"
      ],
      "text/plain": [
       "                      Attrition\n",
       "YearsWithCurrManager           \n",
       "17                     0.000000\n",
       "15                     0.000000\n",
       "13                     0.000000\n",
       "12                     0.000000\n",
       "16                     0.000000\n",
       "9                      0.212766\n",
       "11                     0.333333\n",
       "5                      0.344828\n",
       "8                      0.357143\n",
       "4                      0.368421\n",
       "10                     0.370370\n",
       "6                      0.400000\n",
       "1                      0.425532\n",
       "7                      0.429864\n",
       "3                      0.439189\n",
       "2                      0.461957\n",
       "0                      0.700483\n",
       "14                     0.769231"
      ]
     },
     "execution_count": 90,
     "metadata": {},
     "output_type": "execute_result"
    }
   ],
   "source": [
    "df[['Attrition','YearsWithCurrManager']].groupby('YearsWithCurrManager').mean().sort_values('Attrition')"
   ]
  },
  {
   "cell_type": "code",
   "execution_count": 91,
   "metadata": {},
   "outputs": [],
   "source": [
    "df.YearsWithCurrManager.replace(np.arange(2,12),1, inplace = True)\n",
    "df.YearsWithCurrManager.replace(np.arange(12,18),2, inplace = True)\n"
   ]
  },
  {
   "cell_type": "code",
   "execution_count": 92,
   "metadata": {},
   "outputs": [
    {
     "data": {
      "text/plain": [
       "5    375\n",
       "4    342\n",
       "2    325\n",
       "3    313\n",
       "1    273\n",
       "Name: CommunicationSkill, dtype: int64"
      ]
     },
     "execution_count": 92,
     "metadata": {},
     "output_type": "execute_result"
    }
   ],
   "source": [
    "df.CommunicationSkill.value_counts()"
   ]
  },
  {
   "cell_type": "code",
   "execution_count": 93,
   "metadata": {},
   "outputs": [
    {
     "data": {
      "text/html": [
       "<div>\n",
       "<style scoped>\n",
       "    .dataframe tbody tr th:only-of-type {\n",
       "        vertical-align: middle;\n",
       "    }\n",
       "\n",
       "    .dataframe tbody tr th {\n",
       "        vertical-align: top;\n",
       "    }\n",
       "\n",
       "    .dataframe thead th {\n",
       "        text-align: right;\n",
       "    }\n",
       "</style>\n",
       "<table border=\"1\" class=\"dataframe\">\n",
       "  <thead>\n",
       "    <tr style=\"text-align: right;\">\n",
       "      <th></th>\n",
       "      <th>Attrition</th>\n",
       "    </tr>\n",
       "    <tr>\n",
       "      <th>CommunicationSkill</th>\n",
       "      <th></th>\n",
       "    </tr>\n",
       "  </thead>\n",
       "  <tbody>\n",
       "    <tr>\n",
       "      <th>1</th>\n",
       "      <td>0.366300</td>\n",
       "    </tr>\n",
       "    <tr>\n",
       "      <th>3</th>\n",
       "      <td>0.447284</td>\n",
       "    </tr>\n",
       "    <tr>\n",
       "      <th>4</th>\n",
       "      <td>0.497076</td>\n",
       "    </tr>\n",
       "    <tr>\n",
       "      <th>2</th>\n",
       "      <td>0.507692</td>\n",
       "    </tr>\n",
       "    <tr>\n",
       "      <th>5</th>\n",
       "      <td>0.560000</td>\n",
       "    </tr>\n",
       "  </tbody>\n",
       "</table>\n",
       "</div>"
      ],
      "text/plain": [
       "                    Attrition\n",
       "CommunicationSkill           \n",
       "1                    0.366300\n",
       "3                    0.447284\n",
       "4                    0.497076\n",
       "2                    0.507692\n",
       "5                    0.560000"
      ]
     },
     "execution_count": 93,
     "metadata": {},
     "output_type": "execute_result"
    }
   ],
   "source": [
    "df[['Attrition','CommunicationSkill']].groupby('CommunicationSkill').mean().sort_values('Attrition')"
   ]
  },
  {
   "cell_type": "code",
   "execution_count": 94,
   "metadata": {},
   "outputs": [
    {
     "data": {
      "text/plain": [
       "1    1628\n",
       "Name: Behaviour, dtype: int64"
      ]
     },
     "execution_count": 94,
     "metadata": {},
     "output_type": "execute_result"
    }
   ],
   "source": [
    "df.Behaviour.value_counts()"
   ]
  },
  {
   "cell_type": "code",
   "execution_count": 95,
   "metadata": {},
   "outputs": [
    {
     "data": {
      "text/html": [
       "<div>\n",
       "<style scoped>\n",
       "    .dataframe tbody tr th:only-of-type {\n",
       "        vertical-align: middle;\n",
       "    }\n",
       "\n",
       "    .dataframe tbody tr th {\n",
       "        vertical-align: top;\n",
       "    }\n",
       "\n",
       "    .dataframe thead th {\n",
       "        text-align: right;\n",
       "    }\n",
       "</style>\n",
       "<table border=\"1\" class=\"dataframe\">\n",
       "  <thead>\n",
       "    <tr style=\"text-align: right;\">\n",
       "      <th></th>\n",
       "      <th>Attrition</th>\n",
       "    </tr>\n",
       "    <tr>\n",
       "      <th>Behaviour</th>\n",
       "      <th></th>\n",
       "    </tr>\n",
       "  </thead>\n",
       "  <tbody>\n",
       "    <tr>\n",
       "      <th>1</th>\n",
       "      <td>0.482187</td>\n",
       "    </tr>\n",
       "  </tbody>\n",
       "</table>\n",
       "</div>"
      ],
      "text/plain": [
       "           Attrition\n",
       "Behaviour           \n",
       "1           0.482187"
      ]
     },
     "execution_count": 95,
     "metadata": {},
     "output_type": "execute_result"
    }
   ],
   "source": [
    "df[['Attrition','Behaviour']].groupby('Behaviour').mean().sort_values('Attrition')"
   ]
  },
  {
   "cell_type": "code",
   "execution_count": 96,
   "metadata": {},
   "outputs": [],
   "source": [
    "Y = df.Attrition"
   ]
  },
  {
   "cell_type": "code",
   "execution_count": 97,
   "metadata": {},
   "outputs": [
    {
     "data": {
      "text/html": [
       "<div>\n",
       "<style scoped>\n",
       "    .dataframe tbody tr th:only-of-type {\n",
       "        vertical-align: middle;\n",
       "    }\n",
       "\n",
       "    .dataframe tbody tr th {\n",
       "        vertical-align: top;\n",
       "    }\n",
       "\n",
       "    .dataframe thead th {\n",
       "        text-align: right;\n",
       "    }\n",
       "</style>\n",
       "<table border=\"1\" class=\"dataframe\">\n",
       "  <thead>\n",
       "    <tr style=\"text-align: right;\">\n",
       "      <th></th>\n",
       "      <th>Id</th>\n",
       "      <th>Age</th>\n",
       "      <th>Attrition</th>\n",
       "      <th>DistanceFromHome</th>\n",
       "      <th>Education</th>\n",
       "      <th>EmployeeNumber</th>\n",
       "      <th>EnvironmentSatisfaction</th>\n",
       "      <th>JobInvolvement</th>\n",
       "      <th>JobSatisfaction</th>\n",
       "      <th>MonthlyIncome</th>\n",
       "      <th>...</th>\n",
       "      <th>PercentSalaryHike</th>\n",
       "      <th>PerformanceRating</th>\n",
       "      <th>StockOptionLevel</th>\n",
       "      <th>TotalWorkingYears</th>\n",
       "      <th>TrainingTimesLastYear</th>\n",
       "      <th>YearsInCurrentRole</th>\n",
       "      <th>YearsSinceLastPromotion</th>\n",
       "      <th>YearsWithCurrManager</th>\n",
       "      <th>CommunicationSkill</th>\n",
       "      <th>Behaviour</th>\n",
       "    </tr>\n",
       "  </thead>\n",
       "  <tbody>\n",
       "    <tr>\n",
       "      <th>Id</th>\n",
       "      <td>1.000000</td>\n",
       "      <td>-0.151102</td>\n",
       "      <td>0.694838</td>\n",
       "      <td>0.066170</td>\n",
       "      <td>-0.025287</td>\n",
       "      <td>-0.085159</td>\n",
       "      <td>0.104697</td>\n",
       "      <td>-0.127778</td>\n",
       "      <td>-0.111779</td>\n",
       "      <td>-0.086704</td>\n",
       "      <td>...</td>\n",
       "      <td>-0.003705</td>\n",
       "      <td>0.022698</td>\n",
       "      <td>-0.150298</td>\n",
       "      <td>-0.188310</td>\n",
       "      <td>-0.080326</td>\n",
       "      <td>-0.176025</td>\n",
       "      <td>-0.039062</td>\n",
       "      <td>-0.194872</td>\n",
       "      <td>0.083742</td>\n",
       "      <td>NaN</td>\n",
       "    </tr>\n",
       "    <tr>\n",
       "      <th>Age</th>\n",
       "      <td>-0.151102</td>\n",
       "      <td>1.000000</td>\n",
       "      <td>-0.188247</td>\n",
       "      <td>0.001471</td>\n",
       "      <td>0.064221</td>\n",
       "      <td>0.065752</td>\n",
       "      <td>-0.008163</td>\n",
       "      <td>0.052921</td>\n",
       "      <td>0.013940</td>\n",
       "      <td>0.267869</td>\n",
       "      <td>...</td>\n",
       "      <td>0.008210</td>\n",
       "      <td>0.002570</td>\n",
       "      <td>0.133763</td>\n",
       "      <td>0.599986</td>\n",
       "      <td>-0.002590</td>\n",
       "      <td>0.291754</td>\n",
       "      <td>0.219823</td>\n",
       "      <td>0.206303</td>\n",
       "      <td>0.006783</td>\n",
       "      <td>NaN</td>\n",
       "    </tr>\n",
       "    <tr>\n",
       "      <th>Attrition</th>\n",
       "      <td>0.694838</td>\n",
       "      <td>-0.188247</td>\n",
       "      <td>1.000000</td>\n",
       "      <td>0.100149</td>\n",
       "      <td>-0.043956</td>\n",
       "      <td>-0.115831</td>\n",
       "      <td>0.133585</td>\n",
       "      <td>-0.159710</td>\n",
       "      <td>-0.154971</td>\n",
       "      <td>-0.117138</td>\n",
       "      <td>...</td>\n",
       "      <td>-0.012668</td>\n",
       "      <td>0.010202</td>\n",
       "      <td>-0.212262</td>\n",
       "      <td>-0.250249</td>\n",
       "      <td>-0.105663</td>\n",
       "      <td>-0.257405</td>\n",
       "      <td>-0.050379</td>\n",
       "      <td>-0.262769</td>\n",
       "      <td>0.103379</td>\n",
       "      <td>NaN</td>\n",
       "    </tr>\n",
       "    <tr>\n",
       "      <th>DistanceFromHome</th>\n",
       "      <td>0.066170</td>\n",
       "      <td>0.001471</td>\n",
       "      <td>0.100149</td>\n",
       "      <td>1.000000</td>\n",
       "      <td>0.012175</td>\n",
       "      <td>0.013532</td>\n",
       "      <td>-0.004082</td>\n",
       "      <td>0.045915</td>\n",
       "      <td>-0.072466</td>\n",
       "      <td>-0.008164</td>\n",
       "      <td>...</td>\n",
       "      <td>0.077034</td>\n",
       "      <td>0.052961</td>\n",
       "      <td>0.028341</td>\n",
       "      <td>-0.017117</td>\n",
       "      <td>0.005123</td>\n",
       "      <td>-0.009233</td>\n",
       "      <td>0.006198</td>\n",
       "      <td>-0.072249</td>\n",
       "      <td>-0.039997</td>\n",
       "      <td>NaN</td>\n",
       "    </tr>\n",
       "    <tr>\n",
       "      <th>Education</th>\n",
       "      <td>-0.025287</td>\n",
       "      <td>0.064221</td>\n",
       "      <td>-0.043956</td>\n",
       "      <td>0.012175</td>\n",
       "      <td>1.000000</td>\n",
       "      <td>0.064421</td>\n",
       "      <td>-0.044024</td>\n",
       "      <td>0.020965</td>\n",
       "      <td>-0.005844</td>\n",
       "      <td>0.031374</td>\n",
       "      <td>...</td>\n",
       "      <td>0.058277</td>\n",
       "      <td>0.013931</td>\n",
       "      <td>0.021645</td>\n",
       "      <td>0.041406</td>\n",
       "      <td>0.052488</td>\n",
       "      <td>0.009687</td>\n",
       "      <td>0.002304</td>\n",
       "      <td>0.005511</td>\n",
       "      <td>-0.024036</td>\n",
       "      <td>NaN</td>\n",
       "    </tr>\n",
       "    <tr>\n",
       "      <th>EmployeeNumber</th>\n",
       "      <td>-0.085159</td>\n",
       "      <td>0.065752</td>\n",
       "      <td>-0.115831</td>\n",
       "      <td>0.013532</td>\n",
       "      <td>0.064421</td>\n",
       "      <td>1.000000</td>\n",
       "      <td>-0.053329</td>\n",
       "      <td>0.015238</td>\n",
       "      <td>-0.007052</td>\n",
       "      <td>0.024832</td>\n",
       "      <td>...</td>\n",
       "      <td>-0.053271</td>\n",
       "      <td>-0.039558</td>\n",
       "      <td>0.157539</td>\n",
       "      <td>0.053260</td>\n",
       "      <td>0.041349</td>\n",
       "      <td>0.042086</td>\n",
       "      <td>0.014050</td>\n",
       "      <td>0.069287</td>\n",
       "      <td>-0.011204</td>\n",
       "      <td>NaN</td>\n",
       "    </tr>\n",
       "    <tr>\n",
       "      <th>EnvironmentSatisfaction</th>\n",
       "      <td>0.104697</td>\n",
       "      <td>-0.008163</td>\n",
       "      <td>0.133585</td>\n",
       "      <td>-0.004082</td>\n",
       "      <td>-0.044024</td>\n",
       "      <td>-0.053329</td>\n",
       "      <td>1.000000</td>\n",
       "      <td>-0.003941</td>\n",
       "      <td>-0.045940</td>\n",
       "      <td>0.063868</td>\n",
       "      <td>...</td>\n",
       "      <td>0.037617</td>\n",
       "      <td>0.061335</td>\n",
       "      <td>-0.035624</td>\n",
       "      <td>0.033402</td>\n",
       "      <td>-0.027170</td>\n",
       "      <td>-0.050232</td>\n",
       "      <td>-0.013654</td>\n",
       "      <td>0.039030</td>\n",
       "      <td>0.063887</td>\n",
       "      <td>NaN</td>\n",
       "    </tr>\n",
       "    <tr>\n",
       "      <th>JobInvolvement</th>\n",
       "      <td>-0.127778</td>\n",
       "      <td>0.052921</td>\n",
       "      <td>-0.159710</td>\n",
       "      <td>0.045915</td>\n",
       "      <td>0.020965</td>\n",
       "      <td>0.015238</td>\n",
       "      <td>-0.003941</td>\n",
       "      <td>1.000000</td>\n",
       "      <td>-0.014095</td>\n",
       "      <td>0.063911</td>\n",
       "      <td>...</td>\n",
       "      <td>-0.042988</td>\n",
       "      <td>-0.063512</td>\n",
       "      <td>0.064102</td>\n",
       "      <td>0.065003</td>\n",
       "      <td>-0.027122</td>\n",
       "      <td>0.027083</td>\n",
       "      <td>0.006373</td>\n",
       "      <td>0.112058</td>\n",
       "      <td>0.052877</td>\n",
       "      <td>NaN</td>\n",
       "    </tr>\n",
       "    <tr>\n",
       "      <th>JobSatisfaction</th>\n",
       "      <td>-0.111779</td>\n",
       "      <td>0.013940</td>\n",
       "      <td>-0.154971</td>\n",
       "      <td>-0.072466</td>\n",
       "      <td>-0.005844</td>\n",
       "      <td>-0.007052</td>\n",
       "      <td>-0.045940</td>\n",
       "      <td>-0.014095</td>\n",
       "      <td>1.000000</td>\n",
       "      <td>-0.044571</td>\n",
       "      <td>...</td>\n",
       "      <td>-0.053047</td>\n",
       "      <td>-0.063728</td>\n",
       "      <td>0.026517</td>\n",
       "      <td>-0.017855</td>\n",
       "      <td>-0.007339</td>\n",
       "      <td>0.058963</td>\n",
       "      <td>0.005118</td>\n",
       "      <td>0.010238</td>\n",
       "      <td>-0.078819</td>\n",
       "      <td>NaN</td>\n",
       "    </tr>\n",
       "    <tr>\n",
       "      <th>MonthlyIncome</th>\n",
       "      <td>-0.086704</td>\n",
       "      <td>0.267869</td>\n",
       "      <td>-0.117138</td>\n",
       "      <td>-0.008164</td>\n",
       "      <td>0.031374</td>\n",
       "      <td>0.024832</td>\n",
       "      <td>0.063868</td>\n",
       "      <td>0.063911</td>\n",
       "      <td>-0.044571</td>\n",
       "      <td>1.000000</td>\n",
       "      <td>...</td>\n",
       "      <td>0.011637</td>\n",
       "      <td>-0.038205</td>\n",
       "      <td>0.072634</td>\n",
       "      <td>0.260664</td>\n",
       "      <td>-0.018452</td>\n",
       "      <td>0.156034</td>\n",
       "      <td>0.113760</td>\n",
       "      <td>0.264486</td>\n",
       "      <td>-0.000622</td>\n",
       "      <td>NaN</td>\n",
       "    </tr>\n",
       "    <tr>\n",
       "      <th>NumCompaniesWorked</th>\n",
       "      <td>0.038202</td>\n",
       "      <td>0.141763</td>\n",
       "      <td>0.076513</td>\n",
       "      <td>-0.051138</td>\n",
       "      <td>0.001834</td>\n",
       "      <td>0.015156</td>\n",
       "      <td>0.018227</td>\n",
       "      <td>-0.042437</td>\n",
       "      <td>-0.079597</td>\n",
       "      <td>0.103483</td>\n",
       "      <td>...</td>\n",
       "      <td>0.013101</td>\n",
       "      <td>-0.014775</td>\n",
       "      <td>0.008960</td>\n",
       "      <td>0.148252</td>\n",
       "      <td>-0.043399</td>\n",
       "      <td>-0.089422</td>\n",
       "      <td>-0.024379</td>\n",
       "      <td>0.020155</td>\n",
       "      <td>-0.007656</td>\n",
       "      <td>NaN</td>\n",
       "    </tr>\n",
       "    <tr>\n",
       "      <th>PercentSalaryHike</th>\n",
       "      <td>-0.003705</td>\n",
       "      <td>0.008210</td>\n",
       "      <td>-0.012668</td>\n",
       "      <td>0.077034</td>\n",
       "      <td>0.058277</td>\n",
       "      <td>-0.053271</td>\n",
       "      <td>0.037617</td>\n",
       "      <td>-0.042988</td>\n",
       "      <td>-0.053047</td>\n",
       "      <td>0.011637</td>\n",
       "      <td>...</td>\n",
       "      <td>1.000000</td>\n",
       "      <td>0.785024</td>\n",
       "      <td>0.033623</td>\n",
       "      <td>-0.005677</td>\n",
       "      <td>0.008500</td>\n",
       "      <td>0.030550</td>\n",
       "      <td>-0.036528</td>\n",
       "      <td>-0.021024</td>\n",
       "      <td>0.004156</td>\n",
       "      <td>NaN</td>\n",
       "    </tr>\n",
       "    <tr>\n",
       "      <th>PerformanceRating</th>\n",
       "      <td>0.022698</td>\n",
       "      <td>0.002570</td>\n",
       "      <td>0.010202</td>\n",
       "      <td>0.052961</td>\n",
       "      <td>0.013931</td>\n",
       "      <td>-0.039558</td>\n",
       "      <td>0.061335</td>\n",
       "      <td>-0.063512</td>\n",
       "      <td>-0.063728</td>\n",
       "      <td>-0.038205</td>\n",
       "      <td>...</td>\n",
       "      <td>0.785024</td>\n",
       "      <td>1.000000</td>\n",
       "      <td>-0.010087</td>\n",
       "      <td>-0.007266</td>\n",
       "      <td>-0.008390</td>\n",
       "      <td>0.048240</td>\n",
       "      <td>-0.008880</td>\n",
       "      <td>0.014188</td>\n",
       "      <td>0.035701</td>\n",
       "      <td>NaN</td>\n",
       "    </tr>\n",
       "    <tr>\n",
       "      <th>StockOptionLevel</th>\n",
       "      <td>-0.150298</td>\n",
       "      <td>0.133763</td>\n",
       "      <td>-0.212262</td>\n",
       "      <td>0.028341</td>\n",
       "      <td>0.021645</td>\n",
       "      <td>0.157539</td>\n",
       "      <td>-0.035624</td>\n",
       "      <td>0.064102</td>\n",
       "      <td>0.026517</td>\n",
       "      <td>0.072634</td>\n",
       "      <td>...</td>\n",
       "      <td>0.033623</td>\n",
       "      <td>-0.010087</td>\n",
       "      <td>1.000000</td>\n",
       "      <td>0.093030</td>\n",
       "      <td>-0.000934</td>\n",
       "      <td>0.075037</td>\n",
       "      <td>-0.012168</td>\n",
       "      <td>0.014829</td>\n",
       "      <td>-0.008661</td>\n",
       "      <td>NaN</td>\n",
       "    </tr>\n",
       "    <tr>\n",
       "      <th>TotalWorkingYears</th>\n",
       "      <td>-0.188310</td>\n",
       "      <td>0.599986</td>\n",
       "      <td>-0.250249</td>\n",
       "      <td>-0.017117</td>\n",
       "      <td>0.041406</td>\n",
       "      <td>0.053260</td>\n",
       "      <td>0.033402</td>\n",
       "      <td>0.065003</td>\n",
       "      <td>-0.017855</td>\n",
       "      <td>0.260664</td>\n",
       "      <td>...</td>\n",
       "      <td>-0.005677</td>\n",
       "      <td>-0.007266</td>\n",
       "      <td>0.093030</td>\n",
       "      <td>1.000000</td>\n",
       "      <td>-0.024889</td>\n",
       "      <td>0.463828</td>\n",
       "      <td>0.365989</td>\n",
       "      <td>0.350846</td>\n",
       "      <td>0.017691</td>\n",
       "      <td>NaN</td>\n",
       "    </tr>\n",
       "    <tr>\n",
       "      <th>TrainingTimesLastYear</th>\n",
       "      <td>-0.080326</td>\n",
       "      <td>-0.002590</td>\n",
       "      <td>-0.105663</td>\n",
       "      <td>0.005123</td>\n",
       "      <td>0.052488</td>\n",
       "      <td>0.041349</td>\n",
       "      <td>-0.027170</td>\n",
       "      <td>-0.027122</td>\n",
       "      <td>-0.007339</td>\n",
       "      <td>-0.018452</td>\n",
       "      <td>...</td>\n",
       "      <td>0.008500</td>\n",
       "      <td>-0.008390</td>\n",
       "      <td>-0.000934</td>\n",
       "      <td>-0.024889</td>\n",
       "      <td>1.000000</td>\n",
       "      <td>0.006103</td>\n",
       "      <td>-0.019341</td>\n",
       "      <td>-0.049332</td>\n",
       "      <td>-0.050569</td>\n",
       "      <td>NaN</td>\n",
       "    </tr>\n",
       "    <tr>\n",
       "      <th>YearsInCurrentRole</th>\n",
       "      <td>-0.176025</td>\n",
       "      <td>0.291754</td>\n",
       "      <td>-0.257405</td>\n",
       "      <td>-0.009233</td>\n",
       "      <td>0.009687</td>\n",
       "      <td>0.042086</td>\n",
       "      <td>-0.050232</td>\n",
       "      <td>0.027083</td>\n",
       "      <td>0.058963</td>\n",
       "      <td>0.156034</td>\n",
       "      <td>...</td>\n",
       "      <td>0.030550</td>\n",
       "      <td>0.048240</td>\n",
       "      <td>0.075037</td>\n",
       "      <td>0.463828</td>\n",
       "      <td>0.006103</td>\n",
       "      <td>1.000000</td>\n",
       "      <td>0.506179</td>\n",
       "      <td>0.424706</td>\n",
       "      <td>-0.010425</td>\n",
       "      <td>NaN</td>\n",
       "    </tr>\n",
       "    <tr>\n",
       "      <th>YearsSinceLastPromotion</th>\n",
       "      <td>-0.039062</td>\n",
       "      <td>0.219823</td>\n",
       "      <td>-0.050379</td>\n",
       "      <td>0.006198</td>\n",
       "      <td>0.002304</td>\n",
       "      <td>0.014050</td>\n",
       "      <td>-0.013654</td>\n",
       "      <td>0.006373</td>\n",
       "      <td>0.005118</td>\n",
       "      <td>0.113760</td>\n",
       "      <td>...</td>\n",
       "      <td>-0.036528</td>\n",
       "      <td>-0.008880</td>\n",
       "      <td>-0.012168</td>\n",
       "      <td>0.365989</td>\n",
       "      <td>-0.019341</td>\n",
       "      <td>0.506179</td>\n",
       "      <td>1.000000</td>\n",
       "      <td>0.384663</td>\n",
       "      <td>-0.036682</td>\n",
       "      <td>NaN</td>\n",
       "    </tr>\n",
       "    <tr>\n",
       "      <th>YearsWithCurrManager</th>\n",
       "      <td>-0.194872</td>\n",
       "      <td>0.206303</td>\n",
       "      <td>-0.262769</td>\n",
       "      <td>-0.072249</td>\n",
       "      <td>0.005511</td>\n",
       "      <td>0.069287</td>\n",
       "      <td>0.039030</td>\n",
       "      <td>0.112058</td>\n",
       "      <td>0.010238</td>\n",
       "      <td>0.264486</td>\n",
       "      <td>...</td>\n",
       "      <td>-0.021024</td>\n",
       "      <td>0.014188</td>\n",
       "      <td>0.014829</td>\n",
       "      <td>0.350846</td>\n",
       "      <td>-0.049332</td>\n",
       "      <td>0.424706</td>\n",
       "      <td>0.384663</td>\n",
       "      <td>1.000000</td>\n",
       "      <td>-0.023688</td>\n",
       "      <td>NaN</td>\n",
       "    </tr>\n",
       "    <tr>\n",
       "      <th>CommunicationSkill</th>\n",
       "      <td>0.083742</td>\n",
       "      <td>0.006783</td>\n",
       "      <td>0.103379</td>\n",
       "      <td>-0.039997</td>\n",
       "      <td>-0.024036</td>\n",
       "      <td>-0.011204</td>\n",
       "      <td>0.063887</td>\n",
       "      <td>0.052877</td>\n",
       "      <td>-0.078819</td>\n",
       "      <td>-0.000622</td>\n",
       "      <td>...</td>\n",
       "      <td>0.004156</td>\n",
       "      <td>0.035701</td>\n",
       "      <td>-0.008661</td>\n",
       "      <td>0.017691</td>\n",
       "      <td>-0.050569</td>\n",
       "      <td>-0.010425</td>\n",
       "      <td>-0.036682</td>\n",
       "      <td>-0.023688</td>\n",
       "      <td>1.000000</td>\n",
       "      <td>NaN</td>\n",
       "    </tr>\n",
       "    <tr>\n",
       "      <th>Behaviour</th>\n",
       "      <td>NaN</td>\n",
       "      <td>NaN</td>\n",
       "      <td>NaN</td>\n",
       "      <td>NaN</td>\n",
       "      <td>NaN</td>\n",
       "      <td>NaN</td>\n",
       "      <td>NaN</td>\n",
       "      <td>NaN</td>\n",
       "      <td>NaN</td>\n",
       "      <td>NaN</td>\n",
       "      <td>...</td>\n",
       "      <td>NaN</td>\n",
       "      <td>NaN</td>\n",
       "      <td>NaN</td>\n",
       "      <td>NaN</td>\n",
       "      <td>NaN</td>\n",
       "      <td>NaN</td>\n",
       "      <td>NaN</td>\n",
       "      <td>NaN</td>\n",
       "      <td>NaN</td>\n",
       "      <td>NaN</td>\n",
       "    </tr>\n",
       "  </tbody>\n",
       "</table>\n",
       "<p>21 rows × 21 columns</p>\n",
       "</div>"
      ],
      "text/plain": [
       "                               Id       Age  Attrition  DistanceFromHome  \\\n",
       "Id                       1.000000 -0.151102   0.694838          0.066170   \n",
       "Age                     -0.151102  1.000000  -0.188247          0.001471   \n",
       "Attrition                0.694838 -0.188247   1.000000          0.100149   \n",
       "DistanceFromHome         0.066170  0.001471   0.100149          1.000000   \n",
       "Education               -0.025287  0.064221  -0.043956          0.012175   \n",
       "EmployeeNumber          -0.085159  0.065752  -0.115831          0.013532   \n",
       "EnvironmentSatisfaction  0.104697 -0.008163   0.133585         -0.004082   \n",
       "JobInvolvement          -0.127778  0.052921  -0.159710          0.045915   \n",
       "JobSatisfaction         -0.111779  0.013940  -0.154971         -0.072466   \n",
       "MonthlyIncome           -0.086704  0.267869  -0.117138         -0.008164   \n",
       "NumCompaniesWorked       0.038202  0.141763   0.076513         -0.051138   \n",
       "PercentSalaryHike       -0.003705  0.008210  -0.012668          0.077034   \n",
       "PerformanceRating        0.022698  0.002570   0.010202          0.052961   \n",
       "StockOptionLevel        -0.150298  0.133763  -0.212262          0.028341   \n",
       "TotalWorkingYears       -0.188310  0.599986  -0.250249         -0.017117   \n",
       "TrainingTimesLastYear   -0.080326 -0.002590  -0.105663          0.005123   \n",
       "YearsInCurrentRole      -0.176025  0.291754  -0.257405         -0.009233   \n",
       "YearsSinceLastPromotion -0.039062  0.219823  -0.050379          0.006198   \n",
       "YearsWithCurrManager    -0.194872  0.206303  -0.262769         -0.072249   \n",
       "CommunicationSkill       0.083742  0.006783   0.103379         -0.039997   \n",
       "Behaviour                     NaN       NaN        NaN               NaN   \n",
       "\n",
       "                         Education  EmployeeNumber  EnvironmentSatisfaction  \\\n",
       "Id                       -0.025287       -0.085159                 0.104697   \n",
       "Age                       0.064221        0.065752                -0.008163   \n",
       "Attrition                -0.043956       -0.115831                 0.133585   \n",
       "DistanceFromHome          0.012175        0.013532                -0.004082   \n",
       "Education                 1.000000        0.064421                -0.044024   \n",
       "EmployeeNumber            0.064421        1.000000                -0.053329   \n",
       "EnvironmentSatisfaction  -0.044024       -0.053329                 1.000000   \n",
       "JobInvolvement            0.020965        0.015238                -0.003941   \n",
       "JobSatisfaction          -0.005844       -0.007052                -0.045940   \n",
       "MonthlyIncome             0.031374        0.024832                 0.063868   \n",
       "NumCompaniesWorked        0.001834        0.015156                 0.018227   \n",
       "PercentSalaryHike         0.058277       -0.053271                 0.037617   \n",
       "PerformanceRating         0.013931       -0.039558                 0.061335   \n",
       "StockOptionLevel          0.021645        0.157539                -0.035624   \n",
       "TotalWorkingYears         0.041406        0.053260                 0.033402   \n",
       "TrainingTimesLastYear     0.052488        0.041349                -0.027170   \n",
       "YearsInCurrentRole        0.009687        0.042086                -0.050232   \n",
       "YearsSinceLastPromotion   0.002304        0.014050                -0.013654   \n",
       "YearsWithCurrManager      0.005511        0.069287                 0.039030   \n",
       "CommunicationSkill       -0.024036       -0.011204                 0.063887   \n",
       "Behaviour                      NaN             NaN                      NaN   \n",
       "\n",
       "                         JobInvolvement  JobSatisfaction  MonthlyIncome  ...  \\\n",
       "Id                            -0.127778        -0.111779      -0.086704  ...   \n",
       "Age                            0.052921         0.013940       0.267869  ...   \n",
       "Attrition                     -0.159710        -0.154971      -0.117138  ...   \n",
       "DistanceFromHome               0.045915        -0.072466      -0.008164  ...   \n",
       "Education                      0.020965        -0.005844       0.031374  ...   \n",
       "EmployeeNumber                 0.015238        -0.007052       0.024832  ...   \n",
       "EnvironmentSatisfaction       -0.003941        -0.045940       0.063868  ...   \n",
       "JobInvolvement                 1.000000        -0.014095       0.063911  ...   \n",
       "JobSatisfaction               -0.014095         1.000000      -0.044571  ...   \n",
       "MonthlyIncome                  0.063911        -0.044571       1.000000  ...   \n",
       "NumCompaniesWorked            -0.042437        -0.079597       0.103483  ...   \n",
       "PercentSalaryHike             -0.042988        -0.053047       0.011637  ...   \n",
       "PerformanceRating             -0.063512        -0.063728      -0.038205  ...   \n",
       "StockOptionLevel               0.064102         0.026517       0.072634  ...   \n",
       "TotalWorkingYears              0.065003        -0.017855       0.260664  ...   \n",
       "TrainingTimesLastYear         -0.027122        -0.007339      -0.018452  ...   \n",
       "YearsInCurrentRole             0.027083         0.058963       0.156034  ...   \n",
       "YearsSinceLastPromotion        0.006373         0.005118       0.113760  ...   \n",
       "YearsWithCurrManager           0.112058         0.010238       0.264486  ...   \n",
       "CommunicationSkill             0.052877        -0.078819      -0.000622  ...   \n",
       "Behaviour                           NaN              NaN            NaN  ...   \n",
       "\n",
       "                         PercentSalaryHike  PerformanceRating  \\\n",
       "Id                               -0.003705           0.022698   \n",
       "Age                               0.008210           0.002570   \n",
       "Attrition                        -0.012668           0.010202   \n",
       "DistanceFromHome                  0.077034           0.052961   \n",
       "Education                         0.058277           0.013931   \n",
       "EmployeeNumber                   -0.053271          -0.039558   \n",
       "EnvironmentSatisfaction           0.037617           0.061335   \n",
       "JobInvolvement                   -0.042988          -0.063512   \n",
       "JobSatisfaction                  -0.053047          -0.063728   \n",
       "MonthlyIncome                     0.011637          -0.038205   \n",
       "NumCompaniesWorked                0.013101          -0.014775   \n",
       "PercentSalaryHike                 1.000000           0.785024   \n",
       "PerformanceRating                 0.785024           1.000000   \n",
       "StockOptionLevel                  0.033623          -0.010087   \n",
       "TotalWorkingYears                -0.005677          -0.007266   \n",
       "TrainingTimesLastYear             0.008500          -0.008390   \n",
       "YearsInCurrentRole                0.030550           0.048240   \n",
       "YearsSinceLastPromotion          -0.036528          -0.008880   \n",
       "YearsWithCurrManager             -0.021024           0.014188   \n",
       "CommunicationSkill                0.004156           0.035701   \n",
       "Behaviour                              NaN                NaN   \n",
       "\n",
       "                         StockOptionLevel  TotalWorkingYears  \\\n",
       "Id                              -0.150298          -0.188310   \n",
       "Age                              0.133763           0.599986   \n",
       "Attrition                       -0.212262          -0.250249   \n",
       "DistanceFromHome                 0.028341          -0.017117   \n",
       "Education                        0.021645           0.041406   \n",
       "EmployeeNumber                   0.157539           0.053260   \n",
       "EnvironmentSatisfaction         -0.035624           0.033402   \n",
       "JobInvolvement                   0.064102           0.065003   \n",
       "JobSatisfaction                  0.026517          -0.017855   \n",
       "MonthlyIncome                    0.072634           0.260664   \n",
       "NumCompaniesWorked               0.008960           0.148252   \n",
       "PercentSalaryHike                0.033623          -0.005677   \n",
       "PerformanceRating               -0.010087          -0.007266   \n",
       "StockOptionLevel                 1.000000           0.093030   \n",
       "TotalWorkingYears                0.093030           1.000000   \n",
       "TrainingTimesLastYear           -0.000934          -0.024889   \n",
       "YearsInCurrentRole               0.075037           0.463828   \n",
       "YearsSinceLastPromotion         -0.012168           0.365989   \n",
       "YearsWithCurrManager             0.014829           0.350846   \n",
       "CommunicationSkill              -0.008661           0.017691   \n",
       "Behaviour                             NaN                NaN   \n",
       "\n",
       "                         TrainingTimesLastYear  YearsInCurrentRole  \\\n",
       "Id                                   -0.080326           -0.176025   \n",
       "Age                                  -0.002590            0.291754   \n",
       "Attrition                            -0.105663           -0.257405   \n",
       "DistanceFromHome                      0.005123           -0.009233   \n",
       "Education                             0.052488            0.009687   \n",
       "EmployeeNumber                        0.041349            0.042086   \n",
       "EnvironmentSatisfaction              -0.027170           -0.050232   \n",
       "JobInvolvement                       -0.027122            0.027083   \n",
       "JobSatisfaction                      -0.007339            0.058963   \n",
       "MonthlyIncome                        -0.018452            0.156034   \n",
       "NumCompaniesWorked                   -0.043399           -0.089422   \n",
       "PercentSalaryHike                     0.008500            0.030550   \n",
       "PerformanceRating                    -0.008390            0.048240   \n",
       "StockOptionLevel                     -0.000934            0.075037   \n",
       "TotalWorkingYears                    -0.024889            0.463828   \n",
       "TrainingTimesLastYear                 1.000000            0.006103   \n",
       "YearsInCurrentRole                    0.006103            1.000000   \n",
       "YearsSinceLastPromotion              -0.019341            0.506179   \n",
       "YearsWithCurrManager                 -0.049332            0.424706   \n",
       "CommunicationSkill                   -0.050569           -0.010425   \n",
       "Behaviour                                  NaN                 NaN   \n",
       "\n",
       "                         YearsSinceLastPromotion  YearsWithCurrManager  \\\n",
       "Id                                     -0.039062             -0.194872   \n",
       "Age                                     0.219823              0.206303   \n",
       "Attrition                              -0.050379             -0.262769   \n",
       "DistanceFromHome                        0.006198             -0.072249   \n",
       "Education                               0.002304              0.005511   \n",
       "EmployeeNumber                          0.014050              0.069287   \n",
       "EnvironmentSatisfaction                -0.013654              0.039030   \n",
       "JobInvolvement                          0.006373              0.112058   \n",
       "JobSatisfaction                         0.005118              0.010238   \n",
       "MonthlyIncome                           0.113760              0.264486   \n",
       "NumCompaniesWorked                     -0.024379              0.020155   \n",
       "PercentSalaryHike                      -0.036528             -0.021024   \n",
       "PerformanceRating                      -0.008880              0.014188   \n",
       "StockOptionLevel                       -0.012168              0.014829   \n",
       "TotalWorkingYears                       0.365989              0.350846   \n",
       "TrainingTimesLastYear                  -0.019341             -0.049332   \n",
       "YearsInCurrentRole                      0.506179              0.424706   \n",
       "YearsSinceLastPromotion                 1.000000              0.384663   \n",
       "YearsWithCurrManager                    0.384663              1.000000   \n",
       "CommunicationSkill                     -0.036682             -0.023688   \n",
       "Behaviour                                    NaN                   NaN   \n",
       "\n",
       "                         CommunicationSkill  Behaviour  \n",
       "Id                                 0.083742        NaN  \n",
       "Age                                0.006783        NaN  \n",
       "Attrition                          0.103379        NaN  \n",
       "DistanceFromHome                  -0.039997        NaN  \n",
       "Education                         -0.024036        NaN  \n",
       "EmployeeNumber                    -0.011204        NaN  \n",
       "EnvironmentSatisfaction            0.063887        NaN  \n",
       "JobInvolvement                     0.052877        NaN  \n",
       "JobSatisfaction                   -0.078819        NaN  \n",
       "MonthlyIncome                     -0.000622        NaN  \n",
       "NumCompaniesWorked                -0.007656        NaN  \n",
       "PercentSalaryHike                  0.004156        NaN  \n",
       "PerformanceRating                  0.035701        NaN  \n",
       "StockOptionLevel                  -0.008661        NaN  \n",
       "TotalWorkingYears                  0.017691        NaN  \n",
       "TrainingTimesLastYear             -0.050569        NaN  \n",
       "YearsInCurrentRole                -0.010425        NaN  \n",
       "YearsSinceLastPromotion           -0.036682        NaN  \n",
       "YearsWithCurrManager              -0.023688        NaN  \n",
       "CommunicationSkill                 1.000000        NaN  \n",
       "Behaviour                               NaN        NaN  \n",
       "\n",
       "[21 rows x 21 columns]"
      ]
     },
     "execution_count": 97,
     "metadata": {},
     "output_type": "execute_result"
    }
   ],
   "source": [
    "df.corr()"
   ]
  },
  {
   "cell_type": "code",
   "execution_count": 98,
   "metadata": {},
   "outputs": [],
   "source": [
    "df.drop(columns= ['PercentSalaryHike','Behaviour','NumCompaniesWorked','PerformanceRating','Gender','Education','Age','Attrition','Id'], inplace = True)"
   ]
  },
  {
   "cell_type": "code",
   "execution_count": 99,
   "metadata": {},
   "outputs": [],
   "source": [
    "trainx,testx,trainy,testy = tts(df,Y)\n"
   ]
  },
  {
   "cell_type": "code",
   "execution_count": 100,
   "metadata": {},
   "outputs": [],
   "source": [
    "reg = LogisticRegression(max_iter = 5000)\n",
    "knc = KNeighborsClassifier()\n",
    "rfc = RandomForestClassifier()\n",
    "sgd = SGDClassifier()\n",
    "para1 = { 'C' : [0.001,0.01,0.1,1,10]}\n",
    "para2 = {'n_neighbors' :[1,2,3,4,5,6,7]}\n",
    "para3 = {'criterion' :['entropy','gini']}\n",
    "para4 = {'loss':['modified_huber', 'log'], 'epsilon':[0.001,0.01,0.1,1,10], 'alpha' :[0.0001,0.001,0.01,0.1,1,10]}\n",
    "abc1 = GridSearchCV(reg,param_grid = para1)\n",
    "abc2 = GridSearchCV(knc,param_grid = para2)\n",
    "abc3 = GridSearchCV(rfc,param_grid = para3)\n",
    "abc4 = GridSearchCV(sgd,param_grid = para4)\n"
   ]
  },
  {
   "cell_type": "code",
   "execution_count": 101,
   "metadata": {},
   "outputs": [],
   "source": [
    "abc1.fit(trainx, trainy)\n",
    "abc2.fit(trainx, trainy)\n",
    "abc3.fit(trainx, trainy)\n",
    "abc4.fit(trainx, trainy)\n",
    "\n",
    "y1 = abc1.predict_proba(testx)\n",
    "y2 = abc2.predict_proba(testx)\n",
    "y3 = abc3.predict_proba(testx)\n",
    "y4 = abc4.predict_proba(testx)\n",
    "\n",
    "reg2 = abc1.best_estimator_\n",
    "knc2 = abc2.best_estimator_\n",
    "rfc2 = abc3.best_estimator_\n",
    "sgd2 = abc4.best_estimator_\n",
    "\n",
    "y11 = reg2.predict_proba(testx)\n",
    "y22 = knc2.predict_proba(testx)\n",
    "y33 = rfc2.predict_proba(testx)\n",
    "y44 = sgd2.predict_proba(testx)\n",
    "\n"
   ]
  },
  {
   "cell_type": "code",
   "execution_count": 102,
   "metadata": {},
   "outputs": [],
   "source": [
    "y11 = pd.DataFrame(y11, columns = ['Fired', 'Retained']).drop(columns = 'Fired')\n",
    "y22 = pd.DataFrame(y22, columns = ['Fired', 'Retained']).drop(columns = 'Fired')\n",
    "y33 = pd.DataFrame(y33, columns = ['Fired', 'Retained']).drop(columns = 'Fired')\n",
    "y44 = pd.DataFrame(y44, columns = ['Fired', 'Retained']).drop(columns = 'Fired')"
   ]
  },
  {
   "cell_type": "code",
   "execution_count": 103,
   "metadata": {},
   "outputs": [
    {
     "data": {
      "text/plain": [
       "0.8596821716659421"
      ]
     },
     "execution_count": 103,
     "metadata": {},
     "output_type": "execute_result"
    }
   ],
   "source": [
    "s1 = ras(testy,y11)\n",
    "s1\n"
   ]
  },
  {
   "cell_type": "code",
   "execution_count": 104,
   "metadata": {},
   "outputs": [
    {
     "data": {
      "text/plain": [
       "0.941747572815534"
      ]
     },
     "execution_count": 104,
     "metadata": {},
     "output_type": "execute_result"
    }
   ],
   "source": [
    "s2 = ras(testy,y22)\n",
    "s2"
   ]
  },
  {
   "cell_type": "code",
   "execution_count": 105,
   "metadata": {},
   "outputs": [
    {
     "data": {
      "text/plain": [
       "0.999613582572574"
      ]
     },
     "execution_count": 105,
     "metadata": {},
     "output_type": "execute_result"
    }
   ],
   "source": [
    "s3 = ras(testy,y33)\n",
    "s3"
   ]
  },
  {
   "cell_type": "code",
   "execution_count": 106,
   "metadata": {},
   "outputs": [
    {
     "data": {
      "text/plain": [
       "0.8523643916340627"
      ]
     },
     "execution_count": 106,
     "metadata": {},
     "output_type": "execute_result"
    }
   ],
   "source": [
    "s4 = ras(testy,y44)\n",
    "s4"
   ]
  },
  {
   "cell_type": "code",
   "execution_count": 107,
   "metadata": {},
   "outputs": [
    {
     "data": {
      "text/plain": [
       "0      1\n",
       "1      1\n",
       "2      1\n",
       "3      0\n",
       "4      1\n",
       "      ..\n",
       "465    1\n",
       "466    0\n",
       "467    1\n",
       "468    1\n",
       "469    0\n",
       "Name: Gender, Length: 470, dtype: int64"
      ]
     },
     "execution_count": 107,
     "metadata": {},
     "output_type": "execute_result"
    }
   ],
   "source": [
    "df2 = pd.read_csv('testcovid.csv')\n",
    "id2 = df2.Id\n",
    "\n",
    "df2.BusinessTravel.replace('Non-Travel', '0', inplace = True)\n",
    "df2.BusinessTravel.replace('Travel_Rarely', '1', inplace = True)\n",
    "df2.BusinessTravel.replace('Travel_Frequently', '2', inplace = True)\n",
    "df2.BusinessTravel.astype('int64')\n",
    "\n",
    "df2.Age.replace(np.arange(18,26), 0, inplace = True)\n",
    "df2.Age.replace(np.arange(26,40), 1, inplace = True)\n",
    "df2.Age.replace(np.arange(40,61), 2, inplace = True)\n",
    "\n",
    "df2.Department.replace(['Sales', 'Human Resources'], '0', inplace = True)\n",
    "df2.Department.replace(['Research & Development'], '1', inplace = True)\n",
    "df2.Department.astype('int64')\n",
    "\n",
    "df2.DistanceFromHome.replace(np.arange(0,10), 0, inplace = True)\n",
    "df2.DistanceFromHome.replace(np.arange(10,30), 1, inplace = True)\n",
    "\n",
    "df2.Education.replace([1,2,3,4],0, inplace = True)\n",
    "df2.Education.replace(5,1, inplace = True)\n",
    "\n",
    "df2.EducationField.replace(['Human Resources', 'Marketing', 'Technical Degree'], '1', inplace = True)\n",
    "df2.EducationField.replace(['Life Sciences', 'Medical', 'Other'], '0', inplace = True)\n",
    "df2.EducationField.astype('int64')\n",
    "\n",
    "df2.EmployeeNumber.replace(np.arange(1,1495),0, inplace = True)\n",
    "df2.EmployeeNumber.replace(np.arange(1495,2069),1, inplace = True)\n",
    "\n",
    "df2.EnvironmentSatisfaction.replace([2,3,4],0, inplace = True)\n",
    "\n",
    "df2.JobRole.replace('Research Director', '0', inplace = True)\n",
    "df2.JobRole.replace(['Manager','Healthcare Representative', 'Manufacturing Director'], '1', inplace = True)\n",
    "df2.JobRole.replace(['Research Scientist','Sales Executive'], '2', inplace = True)\n",
    "df2.JobRole.replace('Laboratory Technician', '3', inplace = True)\n",
    "df2.JobRole.replace('Human Resources','4', inplace = True)\n",
    "df2.JobRole.replace('Sales Representative', '5', inplace = True)\n",
    "df2.JobRole.astype('int64')\n",
    "\n",
    "df2.MaritalStatus.replace(['Married', 'Divorced'], '0', inplace = True)\n",
    "df2.MaritalStatus.replace('Single', '1', inplace = True)\n",
    "df2.MaritalStatus.astype('int64')\n",
    "\n",
    "df2.JobSatisfaction.replace(3,2, inplace = True)\n",
    "df2.JobSatisfaction.replace(4,3, inplace = True)\n",
    "\n",
    "df2.OverTime.replace(['No','Yes'],['0','1'], inplace = True)\n",
    "df2.OverTime.astype('int64')\n",
    "\n",
    "\n",
    "df2.StockOptionLevel.replace(2,1, inplace = True)\n",
    "df2.StockOptionLevel.replace(3,2, inplace = True)\n",
    "\n",
    "df2.YearsAtCompany.replace(np.arange(20,41), '20+' , inplace = True)\n",
    "df2.YearsAtCompany.replace(np.arange(0,5),'0-5', inplace = True)\n",
    "df2.YearsAtCompany.replace(np.arange(5,10),'5-10', inplace = True)\n",
    "df2.YearsAtCompany.replace(np.arange(10,20),'10-20', inplace = True)\n",
    "df2.YearsAtCompany.replace('0-5', '0', inplace = True)\n",
    "df2.YearsAtCompany.replace('5-10','1', inplace = True)\n",
    "df2.YearsAtCompany.replace('10-20','2', inplace = True)\n",
    "df2.YearsAtCompany.replace('20+','3', inplace = True)\n",
    "df2.YearsAtCompany.astype('int64')\n",
    "\n",
    "df2.YearsInCurrentRole.replace([0,1,2],0, inplace = True)\n",
    "df2.YearsInCurrentRole.replace([3,4,5],1, inplace = True)\n",
    "df2.YearsInCurrentRole.replace([6,7,8,9],2, inplace = True)\n",
    "df2.YearsInCurrentRole.replace(np.arange(10,19),3, inplace = True)\n",
    "\n",
    "df2.YearsWithCurrManager.replace(np.arange(2,12),1, inplace = True)\n",
    "df2.YearsWithCurrManager.replace(np.arange(12,18),2, inplace = True)\n",
    "\n",
    "df2.MonthlyIncome.replace(np.arange(0,2001), 0, inplace = True)\n",
    "df2.MonthlyIncome.replace(np.arange(2001,25000), 1, inplace = True)\n",
    "df2.MonthlyIncome.astype('int64')\n",
    "\n",
    "df2.TotalWorkingYears.replace([0,1,2,3], 0 , inplace = True)\n",
    "df2.TotalWorkingYears.replace(np.arange(4,11), 1 , inplace = True)\n",
    "df2.TotalWorkingYears.replace(np.arange(11,18), 2 , inplace = True)\n",
    "df2.TotalWorkingYears.replace(np.arange(18,40), 3 , inplace = True)\n",
    "\n",
    "df2.Gender.replace(['Female','Male'],['0','1'], inplace = True)\n",
    "df2.Gender.astype('int64')\n",
    "\n"
   ]
  },
  {
   "cell_type": "code",
   "execution_count": 108,
   "metadata": {},
   "outputs": [],
   "source": [
    "df2.drop(columns= ['PercentSalaryHike','Behaviour','NumCompaniesWorked','PerformanceRating','Gender','Education','Age','Id'], inplace = True)"
   ]
  },
  {
   "cell_type": "code",
   "execution_count": 109,
   "metadata": {},
   "outputs": [],
   "source": [
    "reg2.fit(df,Y)\n",
    "rfc2.fit(df,Y)\n",
    "sgd2.fit(df,Y)\n",
    "\n",
    "y11 = reg2.predict_proba(df2)\n",
    "y22 = reg2.predict_proba(df2)\n",
    "y33 = rfc2.predict_proba(df2)\n",
    "y44 = sgd2.predict_proba(df2)\n",
    "\n",
    "y11 = pd.DataFrame(y11, columns = ['Fired', 'Attrition']).drop(columns = 'Fired')\n",
    "y22 = pd.DataFrame(y22, columns = ['Fired', 'Attrition']).drop(columns = 'Fired')\n",
    "y33 = pd.DataFrame(y33, columns = ['Fired', 'Attrition']).drop(columns = 'Fired')\n",
    "y44 = pd.DataFrame(y44, columns = ['Fired', 'Attrition']).drop(columns = 'Fired')"
   ]
  },
  {
   "cell_type": "code",
   "execution_count": 112,
   "metadata": {},
   "outputs": [],
   "source": [
    "output = pd.concat([id2,y11], axis = 1)\n",
    "output.to_csv(r'C:\\Users\\Pranav\\Desktop\\summer analytics\\out36', index = False, header = True)"
   ]
  },
  {
   "cell_type": "code",
   "execution_count": null,
   "metadata": {},
   "outputs": [],
   "source": []
  }
 ],
 "metadata": {
  "kernelspec": {
   "display_name": "Python 3",
   "language": "python",
   "name": "python3"
  },
  "language_info": {
   "codemirror_mode": {
    "name": "ipython",
    "version": 3
   },
   "file_extension": ".py",
   "mimetype": "text/x-python",
   "name": "python",
   "nbconvert_exporter": "python",
   "pygments_lexer": "ipython3",
   "version": "3.7.6"
  }
 },
 "nbformat": 4,
 "nbformat_minor": 4
}
